{
 "cells": [
  {
   "cell_type": "code",
   "execution_count": 1,
   "metadata": {
    "collapsed": true
   },
   "outputs": [],
   "source": [
    "from model.rnn import LSTM\n",
    "from model.hidden_markov_model import HMM\n",
    "from model.nn import NN\n",
    "import pandas as pd\n",
    "import matplotlib.pyplot as plt\n",
    "import numpy as np"
   ]
  },
  {
   "cell_type": "code",
   "execution_count": 2,
   "outputs": [],
   "source": [
    "occupancy = pd.read_csv(r'C:\\Users\\ASUS\\Desktop\\activity inference\\data\\eco\\home1\\01_occupancy_csv\\01_summer.csv',index_col=0)\n",
    "# timestamps = pd.date_range(start=occupancy.index[0], end=pd.to_datetime(occupancy.index[-1])+pd.Timedelta(days=1), freq='S')\n",
    "occupancy_state = []\n",
    "for i in range(len(occupancy)):\n",
    "    date = occupancy.index[i]\n",
    "    timestamps = pd.date_range(start=date,end=pd.to_datetime(date)+pd.Timedelta(days=1)-pd.Timedelta(seconds=1),freq='s')\n",
    "    data = occupancy.iloc[i,:]\n",
    "    series = pd.DataFrame(index=timestamps, data=data.values,columns=[\"occupancy\"]).resample('1min').max()\n",
    "    occupancy_state.append(series)\n",
    "occupancy_state = pd.concat(occupancy_state)"
   ],
   "metadata": {
    "collapsed": false
   }
  },
  {
   "cell_type": "code",
   "execution_count": 3,
   "outputs": [],
   "source": [
    "timestamps = occupancy_state.index"
   ],
   "metadata": {
    "collapsed": false
   }
  },
  {
   "cell_type": "code",
   "execution_count": 4,
   "outputs": [
    {
     "data": {
      "text/plain": "'25-Aug-2012'"
     },
     "execution_count": 4,
     "metadata": {},
     "output_type": "execute_result"
    }
   ],
   "source": [
    "date"
   ],
   "metadata": {
    "collapsed": false
   }
  },
  {
   "cell_type": "markdown",
   "source": [
    "# prepare electricity"
   ],
   "metadata": {
    "collapsed": false
   }
  },
  {
   "cell_type": "code",
   "execution_count": 1,
   "outputs": [
    {
     "ename": "NameError",
     "evalue": "name 'pd' is not defined",
     "output_type": "error",
     "traceback": [
      "\u001B[1;31m---------------------------------------------------------------------------\u001B[0m",
      "\u001B[1;31mNameError\u001B[0m                                 Traceback (most recent call last)",
      "\u001B[1;32m~\\AppData\\Local\\Temp/ipykernel_21100/2525119071.py\u001B[0m in \u001B[0;36m<module>\u001B[1;34m\u001B[0m\n\u001B[0;32m      1\u001B[0m \u001B[1;31m# prepare electricity\u001B[0m\u001B[1;33m\u001B[0m\u001B[1;33m\u001B[0m\u001B[0m\n\u001B[1;32m----> 2\u001B[1;33m \u001B[0mhdf\u001B[0m \u001B[1;33m=\u001B[0m \u001B[0mpd\u001B[0m\u001B[1;33m.\u001B[0m\u001B[0mHDFStore\u001B[0m\u001B[1;33m(\u001B[0m\u001B[1;34mr'C:\\Users\\ASUS\\Desktop\\activity inference\\data\\eco\\eco.h5'\u001B[0m\u001B[1;33m)\u001B[0m\u001B[1;33m\u001B[0m\u001B[1;33m\u001B[0m\u001B[0m\n\u001B[0m\u001B[0;32m      3\u001B[0m \u001B[0mpower_info\u001B[0m \u001B[1;33m=\u001B[0m \u001B[0mhdf\u001B[0m\u001B[1;33m.\u001B[0m\u001B[0mget\u001B[0m\u001B[1;33m(\u001B[0m\u001B[1;34m'/building1/elec/meter1'\u001B[0m\u001B[1;33m)\u001B[0m\u001B[1;33m\u001B[0m\u001B[1;33m\u001B[0m\u001B[0m\n\u001B[0;32m      4\u001B[0m \u001B[0mpower_info\u001B[0m\u001B[1;33m.\u001B[0m\u001B[0mindex\u001B[0m\u001B[1;33m.\u001B[0m\u001B[0mname\u001B[0m \u001B[1;33m=\u001B[0m \u001B[1;34m'Date'\u001B[0m\u001B[1;33m\u001B[0m\u001B[1;33m\u001B[0m\u001B[0m\n\u001B[0;32m      5\u001B[0m \u001B[0mpower_info\u001B[0m\u001B[1;33m.\u001B[0m\u001B[0mreset_index\u001B[0m\u001B[1;33m(\u001B[0m\u001B[0minplace\u001B[0m\u001B[1;33m=\u001B[0m\u001B[1;32mTrue\u001B[0m\u001B[1;33m)\u001B[0m\u001B[1;33m\u001B[0m\u001B[1;33m\u001B[0m\u001B[0m\n",
      "\u001B[1;31mNameError\u001B[0m: name 'pd' is not defined"
     ]
    }
   ],
   "source": [
    "# prepare electricity\n",
    "hdf = pd.HDFStore(r'C:\\Users\\ASUS\\Desktop\\activity inference\\data\\eco\\eco.h5')\n",
    "power_info = hdf.get('/building1/elec/meter1')\n",
    "power_info.index.name = 'Date'\n",
    "power_info.reset_index(inplace=True)\n",
    "power_info['Date'] = pd.to_datetime(power_info['Date']).dt.tz_localize(None)\n",
    "#转化时间戳\n",
    "power_info.set_index('Date', drop=True, inplace=True)\n",
    "power_info=power_info.fillna(0)\n",
    "power_info = power_info[\"power\"][\"active\"].to_frame()\n",
    "power_info=power_info.resample(\"1min\").mean()\n",
    "power_info=power_info.fillna(0)\n",
    "date = power_info.index\n",
    "electricity_data = power_info.loc[np.intersect1d(pd.to_datetime(date), pd.to_datetime(timestamps))]\n",
    "class Dataset:\n",
    "    def __init__(self, occupancy, electricity_dat):\n",
    "        self.occupancy = occupancy\n",
    "        self.data = electricity_dat"
   ],
   "metadata": {
    "collapsed": false
   }
  },
  {
   "cell_type": "code",
   "execution_count": 6,
   "outputs": [],
   "source": [
    "occupancy_state = occupancy_state.loc[np.intersect1d(pd.to_datetime(date), pd.to_datetime(timestamps))]"
   ],
   "metadata": {
    "collapsed": false
   }
  },
  {
   "cell_type": "code",
   "execution_count": 7,
   "outputs": [
    {
     "data": {
      "text/plain": "                     occupancy\n2012-07-15 00:00:00          1\n2012-07-15 00:01:00          1\n2012-07-15 00:02:00          1\n2012-07-15 00:03:00          1\n2012-07-15 00:04:00          1\n...                        ...\n2012-08-25 23:55:00          1\n2012-08-25 23:56:00          1\n2012-08-25 23:57:00          1\n2012-08-25 23:58:00          1\n2012-08-25 23:59:00          1\n\n[56160 rows x 1 columns]",
      "text/html": "<div>\n<style scoped>\n    .dataframe tbody tr th:only-of-type {\n        vertical-align: middle;\n    }\n\n    .dataframe tbody tr th {\n        vertical-align: top;\n    }\n\n    .dataframe thead th {\n        text-align: right;\n    }\n</style>\n<table border=\"1\" class=\"dataframe\">\n  <thead>\n    <tr style=\"text-align: right;\">\n      <th></th>\n      <th>occupancy</th>\n    </tr>\n  </thead>\n  <tbody>\n    <tr>\n      <th>2012-07-15 00:00:00</th>\n      <td>1</td>\n    </tr>\n    <tr>\n      <th>2012-07-15 00:01:00</th>\n      <td>1</td>\n    </tr>\n    <tr>\n      <th>2012-07-15 00:02:00</th>\n      <td>1</td>\n    </tr>\n    <tr>\n      <th>2012-07-15 00:03:00</th>\n      <td>1</td>\n    </tr>\n    <tr>\n      <th>2012-07-15 00:04:00</th>\n      <td>1</td>\n    </tr>\n    <tr>\n      <th>...</th>\n      <td>...</td>\n    </tr>\n    <tr>\n      <th>2012-08-25 23:55:00</th>\n      <td>1</td>\n    </tr>\n    <tr>\n      <th>2012-08-25 23:56:00</th>\n      <td>1</td>\n    </tr>\n    <tr>\n      <th>2012-08-25 23:57:00</th>\n      <td>1</td>\n    </tr>\n    <tr>\n      <th>2012-08-25 23:58:00</th>\n      <td>1</td>\n    </tr>\n    <tr>\n      <th>2012-08-25 23:59:00</th>\n      <td>1</td>\n    </tr>\n  </tbody>\n</table>\n<p>56160 rows × 1 columns</p>\n</div>"
     },
     "execution_count": 7,
     "metadata": {},
     "output_type": "execute_result"
    }
   ],
   "source": [
    "occupancy_state"
   ],
   "metadata": {
    "collapsed": false
   }
  },
  {
   "cell_type": "code",
   "execution_count": 26,
   "outputs": [],
   "source": [
    "sliding_window = []\n",
    "lag = 10\n",
    "for i in range(len(electricity_data)-lag):\n",
    "    sliding_window.append(electricity_data[i:i+lag].values)\n",
    "power_sliding = np.array(sliding_window).reshape(-1,lag)\n",
    "\n",
    "num_indices = 24\n",
    "sin_encoding = np.sin(2 * np.pi * electricity_data.index.hour / num_indices)\n",
    "cos_encoding = np.cos(2 * np.pi * electricity_data.index.hour / num_indices)\n",
    "\n",
    "# 将编码后的索引作为新列添加到DataFrame\n",
    "electricity_data['sin_index'] = sin_encoding\n",
    "electricity_data['cos_index'] = cos_encoding\n",
    "time_info = electricity_data[:-lag].iloc[:,[1,2]]\n",
    "electricity_data = np.concatenate([power_sliding,time_info],axis=1)\n",
    "occupancy_state_reserve = occupancy_state.values[:-lag]"
   ],
   "metadata": {
    "collapsed": false
   }
  },
  {
   "cell_type": "code",
   "execution_count": 27,
   "outputs": [
    {
     "data": {
      "text/plain": "                     occupancy\n2012-07-15 00:00:00          1\n2012-07-15 00:01:00          1\n2012-07-15 00:02:00          1\n2012-07-15 00:03:00          1\n2012-07-15 00:04:00          1\n...                        ...\n2012-08-25 23:55:00          1\n2012-08-25 23:56:00          1\n2012-08-25 23:57:00          1\n2012-08-25 23:58:00          1\n2012-08-25 23:59:00          1\n\n[56160 rows x 1 columns]",
      "text/html": "<div>\n<style scoped>\n    .dataframe tbody tr th:only-of-type {\n        vertical-align: middle;\n    }\n\n    .dataframe tbody tr th {\n        vertical-align: top;\n    }\n\n    .dataframe thead th {\n        text-align: right;\n    }\n</style>\n<table border=\"1\" class=\"dataframe\">\n  <thead>\n    <tr style=\"text-align: right;\">\n      <th></th>\n      <th>occupancy</th>\n    </tr>\n  </thead>\n  <tbody>\n    <tr>\n      <th>2012-07-15 00:00:00</th>\n      <td>1</td>\n    </tr>\n    <tr>\n      <th>2012-07-15 00:01:00</th>\n      <td>1</td>\n    </tr>\n    <tr>\n      <th>2012-07-15 00:02:00</th>\n      <td>1</td>\n    </tr>\n    <tr>\n      <th>2012-07-15 00:03:00</th>\n      <td>1</td>\n    </tr>\n    <tr>\n      <th>2012-07-15 00:04:00</th>\n      <td>1</td>\n    </tr>\n    <tr>\n      <th>...</th>\n      <td>...</td>\n    </tr>\n    <tr>\n      <th>2012-08-25 23:55:00</th>\n      <td>1</td>\n    </tr>\n    <tr>\n      <th>2012-08-25 23:56:00</th>\n      <td>1</td>\n    </tr>\n    <tr>\n      <th>2012-08-25 23:57:00</th>\n      <td>1</td>\n    </tr>\n    <tr>\n      <th>2012-08-25 23:58:00</th>\n      <td>1</td>\n    </tr>\n    <tr>\n      <th>2012-08-25 23:59:00</th>\n      <td>1</td>\n    </tr>\n  </tbody>\n</table>\n<p>56160 rows × 1 columns</p>\n</div>"
     },
     "execution_count": 27,
     "metadata": {},
     "output_type": "execute_result"
    }
   ],
   "source": [
    "occupancy_state"
   ],
   "metadata": {
    "collapsed": false
   }
  },
  {
   "cell_type": "code",
   "execution_count": 28,
   "outputs": [],
   "source": [
    "from sklearn.preprocessing import OneHotEncoder\n",
    "occupancy_state = OneHotEncoder().fit_transform(occupancy_state.values).toarray()[:-lag]"
   ],
   "metadata": {
    "collapsed": false
   }
  },
  {
   "cell_type": "code",
   "execution_count": 29,
   "outputs": [],
   "source": [
    "from sklearn.preprocessing import MinMaxScaler\n",
    "electricity_data = MinMaxScaler().fit_transform(electricity_data)\n",
    "training = 0.6\n",
    "validation = 0.2\n",
    "test = 0.2\n",
    "validation_end = int(len(electricity_data)*validation)\n",
    "training_end = validation_end + int(len(electricity_data)*training)\n",
    "test_start = int(len(electricity_data)*test)\n",
    "validation_dataset = Dataset(occupancy_state[:validation_end], electricity_data[:validation_end])\n",
    "train_dataset = Dataset(occupancy_state[validation_end:training_end], electricity_data[validation_end:training_end])\n",
    "test_dataset = Dataset(occupancy_state[-test_start:], electricity_data[-test_start:])"
   ],
   "metadata": {
    "collapsed": false
   }
  },
  {
   "cell_type": "code",
   "execution_count": 30,
   "outputs": [
    {
     "data": {
      "text/plain": "array([[0., 1.],\n       [0., 1.],\n       [0., 1.],\n       ...,\n       [0., 1.],\n       [0., 1.],\n       [0., 1.]])"
     },
     "execution_count": 30,
     "metadata": {},
     "output_type": "execute_result"
    }
   ],
   "source": [
    "test_dataset.occupancy"
   ],
   "metadata": {
    "collapsed": false
   }
  },
  {
   "cell_type": "code",
   "execution_count": null,
   "outputs": [],
   "source": [
    "hidden_states = [5,6,7,8,9]\n",
    "# score = []\n",
    "# for i in hidden_states:\n",
    "#     hmm = HMM(train_dataset, validation_dataset,number_of_hidden_states=i)\n",
    "#     prediction = hmm.run()\n",
    "#\n",
    "#     from sklearn.metrics import f1_score\n",
    "#     f1=f1_score(validation_dataset.occupancy, prediction)\n",
    "#     score.append(f1)\n",
    "lstm = LSTM(train_dataset, test_dataset,epoch=10)\n",
    "prediction1 = lstm.run()"
   ],
   "metadata": {
    "collapsed": false
   }
  },
  {
   "cell_type": "code",
   "execution_count": null,
   "outputs": [],
   "source": [
    "from sklearn.metrics import f1_score, accuracy_score, recall_score\n",
    "f1=f1_score(occupancy_state_reserve[-test_start:], prediction1,average='macro')\n",
    "print(f1)\n",
    "print(accuracy_score(occupancy_state_reserve[-test_start:], prediction1))\n",
    "print(recall_score(occupancy_state_reserve[-test_start:], prediction1))"
   ],
   "metadata": {
    "collapsed": false
   }
  },
  {
   "cell_type": "code",
   "execution_count": 1,
   "outputs": [
    {
     "ename": "NameError",
     "evalue": "name 'np' is not defined",
     "output_type": "error",
     "traceback": [
      "\u001B[1;31m---------------------------------------------------------------------------\u001B[0m",
      "\u001B[1;31mNameError\u001B[0m                                 Traceback (most recent call last)",
      "\u001B[1;32m~\\AppData\\Local\\Temp/ipykernel_28372/1684175788.py\u001B[0m in \u001B[0;36m<module>\u001B[1;34m\u001B[0m\n\u001B[1;32m----> 1\u001B[1;33m \u001B[0mnp\u001B[0m\u001B[1;33m.\u001B[0m\u001B[0msave\u001B[0m\u001B[1;33m(\u001B[0m\u001B[1;34mr\"C:\\Users\\ASUS\\Desktop\\OccupancyWatch\\result\\ECO\\b1\\same_prediction_lag{}\"\u001B[0m\u001B[1;33m.\u001B[0m\u001B[0mformat\u001B[0m\u001B[1;33m(\u001B[0m\u001B[0mlag\u001B[0m\u001B[1;33m)\u001B[0m\u001B[1;33m,\u001B[0m \u001B[0mprediction1\u001B[0m\u001B[1;33m)\u001B[0m\u001B[1;33m\u001B[0m\u001B[1;33m\u001B[0m\u001B[0m\n\u001B[0m\u001B[0;32m      2\u001B[0m \u001B[0mnp\u001B[0m\u001B[1;33m.\u001B[0m\u001B[0msave\u001B[0m\u001B[1;33m(\u001B[0m\u001B[1;34mr\"C:\\Users\\ASUS\\Desktop\\OccupancyWatch\\result\\ECO\\b1\\ground_truth_lag{}\"\u001B[0m\u001B[1;33m.\u001B[0m\u001B[0mformat\u001B[0m\u001B[1;33m(\u001B[0m\u001B[0mlag\u001B[0m\u001B[1;33m)\u001B[0m\u001B[1;33m,\u001B[0m \u001B[0moccupancy_state_reserve\u001B[0m\u001B[1;33m[\u001B[0m\u001B[1;33m-\u001B[0m\u001B[0mtest_start\u001B[0m\u001B[1;33m:\u001B[0m\u001B[1;33m]\u001B[0m\u001B[1;33m)\u001B[0m\u001B[1;33m\u001B[0m\u001B[1;33m\u001B[0m\u001B[0m\n",
      "\u001B[1;31mNameError\u001B[0m: name 'np' is not defined"
     ]
    }
   ],
   "source": [
    "np.save(r\"C:\\Users\\ASUS\\Desktop\\OccupancyWatch\\result\\ECO\\b1\\same_prediction_lag{}\".format(lag), prediction1)\n",
    "np.save(r\"C:\\Users\\ASUS\\Desktop\\OccupancyWatch\\result\\ECO\\b1\\ground_truth_lag{}\".format(lag), occupancy_state_reserve[-test_start:])"
   ],
   "metadata": {
    "collapsed": false
   }
  },
  {
   "cell_type": "markdown",
   "source": [
    "# test on another dataset"
   ],
   "metadata": {
    "collapsed": false
   }
  },
  {
   "cell_type": "code",
   "execution_count": 31,
   "outputs": [],
   "source": [
    "occupancy = pd.read_csv(r'C:\\Users\\ASUS\\Desktop\\activity inference\\data\\eco\\home1\\01_occupancy_csv\\01_winter.csv',index_col=0)\n",
    "# timestamps = pd.date_range(start=occupancy.index[0], end=pd.to_datetime(occupancy.index[-1])+pd.Timedelta(days=1), freq='S')\n",
    "occupancy_state = []\n",
    "for i in range(len(occupancy)):\n",
    "    date = occupancy.index[i]\n",
    "    timestamps = pd.date_range(start=date,end=pd.to_datetime(date)+pd.Timedelta(days=1)-pd.Timedelta(seconds=1),freq='S')\n",
    "    data = occupancy.iloc[i,:]\n",
    "    series = pd.DataFrame(index=timestamps, data=data.values,columns=[\"occupancy\"]).resample('1min').max()\n",
    "    occupancy_state.append(series)\n",
    "occupancy_state = pd.concat(occupancy_state)\n",
    "timestamps = occupancy_state.index"
   ],
   "metadata": {
    "collapsed": false
   }
  },
  {
   "cell_type": "code",
   "execution_count": 32,
   "outputs": [],
   "source": [
    "# prepare electricity\n",
    "hdf = pd.HDFStore(r'C:\\Users\\ASUS\\Desktop\\activity inference\\data\\eco\\eco.h5')\n",
    "power_info = hdf.get('/building1/elec/meter1')\n",
    "power_info.index.name = 'Date'\n",
    "power_info.reset_index(inplace=True)\n",
    "power_info['Date'] = pd.to_datetime(power_info['Date']).dt.tz_localize(None)\n",
    "#转化时间戳\n",
    "power_info.set_index('Date', drop=True, inplace=True)\n",
    "power_info=power_info.fillna(0)\n",
    "power_info = power_info[\"power\"][\"active\"].to_frame()\n",
    "power_info=power_info.resample(\"1min\").mean()\n",
    "power_info=power_info.fillna(0)\n",
    "date = power_info.index\n",
    "electricity_data = power_info.loc[np.intersect1d(pd.to_datetime(date), pd.to_datetime(timestamps))]\n",
    "from sklearn.preprocessing import MinMaxScaler\n",
    "\n",
    "class Dataset:\n",
    "    def __init__(self, occupancy, electricity_dat):\n",
    "        self.occupancy = occupancy\n",
    "        self.data = electricity_dat"
   ],
   "metadata": {
    "collapsed": false
   }
  },
  {
   "cell_type": "code",
   "execution_count": 33,
   "outputs": [],
   "source": [
    "occupancy_state = occupancy_state.loc[np.intersect1d(pd.to_datetime(date), pd.to_datetime(timestamps))]"
   ],
   "metadata": {
    "collapsed": false
   }
  },
  {
   "cell_type": "code",
   "execution_count": 36,
   "outputs": [
    {
     "data": {
      "text/plain": "                     occupancy\n2012-11-24 00:00:00          1\n2012-11-24 00:01:00          1\n2012-11-24 00:02:00          1\n2012-11-24 00:03:00          1\n2012-11-24 00:04:00          1\n...                        ...\n2013-01-09 21:55:00          1\n2013-01-09 21:56:00          1\n2013-01-09 21:57:00          1\n2013-01-09 21:58:00          1\n2013-01-09 21:59:00          1\n\n[66120 rows x 1 columns]",
      "text/html": "<div>\n<style scoped>\n    .dataframe tbody tr th:only-of-type {\n        vertical-align: middle;\n    }\n\n    .dataframe tbody tr th {\n        vertical-align: top;\n    }\n\n    .dataframe thead th {\n        text-align: right;\n    }\n</style>\n<table border=\"1\" class=\"dataframe\">\n  <thead>\n    <tr style=\"text-align: right;\">\n      <th></th>\n      <th>occupancy</th>\n    </tr>\n  </thead>\n  <tbody>\n    <tr>\n      <th>2012-11-24 00:00:00</th>\n      <td>1</td>\n    </tr>\n    <tr>\n      <th>2012-11-24 00:01:00</th>\n      <td>1</td>\n    </tr>\n    <tr>\n      <th>2012-11-24 00:02:00</th>\n      <td>1</td>\n    </tr>\n    <tr>\n      <th>2012-11-24 00:03:00</th>\n      <td>1</td>\n    </tr>\n    <tr>\n      <th>2012-11-24 00:04:00</th>\n      <td>1</td>\n    </tr>\n    <tr>\n      <th>...</th>\n      <td>...</td>\n    </tr>\n    <tr>\n      <th>2013-01-09 21:55:00</th>\n      <td>1</td>\n    </tr>\n    <tr>\n      <th>2013-01-09 21:56:00</th>\n      <td>1</td>\n    </tr>\n    <tr>\n      <th>2013-01-09 21:57:00</th>\n      <td>1</td>\n    </tr>\n    <tr>\n      <th>2013-01-09 21:58:00</th>\n      <td>1</td>\n    </tr>\n    <tr>\n      <th>2013-01-09 21:59:00</th>\n      <td>1</td>\n    </tr>\n  </tbody>\n</table>\n<p>66120 rows × 1 columns</p>\n</div>"
     },
     "execution_count": 36,
     "metadata": {},
     "output_type": "execute_result"
    }
   ],
   "source": [
    "occupancy_state[:-120]"
   ],
   "metadata": {
    "collapsed": false
   }
  },
  {
   "cell_type": "code",
   "execution_count": 37,
   "outputs": [
    {
     "data": {
      "text/plain": "                          active\nDate                            \n2012-11-24 00:00:00  2194.642334\n2012-11-24 00:01:00  1108.750610\n2012-11-24 00:02:00    62.362000\n2012-11-24 00:03:00    62.267502\n2012-11-24 00:04:00    66.895271\n...                          ...\n2013-01-09 23:55:00  2168.175537\n2013-01-09 23:56:00  2137.889160\n2013-01-09 23:57:00  2147.401367\n2013-01-09 23:58:00  2141.551025\n2013-01-09 23:59:00  1838.545776\n\n[66240 rows x 1 columns]",
      "text/html": "<div>\n<style scoped>\n    .dataframe tbody tr th:only-of-type {\n        vertical-align: middle;\n    }\n\n    .dataframe tbody tr th {\n        vertical-align: top;\n    }\n\n    .dataframe thead th {\n        text-align: right;\n    }\n</style>\n<table border=\"1\" class=\"dataframe\">\n  <thead>\n    <tr style=\"text-align: right;\">\n      <th></th>\n      <th>active</th>\n    </tr>\n    <tr>\n      <th>Date</th>\n      <th></th>\n    </tr>\n  </thead>\n  <tbody>\n    <tr>\n      <th>2012-11-24 00:00:00</th>\n      <td>2194.642334</td>\n    </tr>\n    <tr>\n      <th>2012-11-24 00:01:00</th>\n      <td>1108.750610</td>\n    </tr>\n    <tr>\n      <th>2012-11-24 00:02:00</th>\n      <td>62.362000</td>\n    </tr>\n    <tr>\n      <th>2012-11-24 00:03:00</th>\n      <td>62.267502</td>\n    </tr>\n    <tr>\n      <th>2012-11-24 00:04:00</th>\n      <td>66.895271</td>\n    </tr>\n    <tr>\n      <th>...</th>\n      <td>...</td>\n    </tr>\n    <tr>\n      <th>2013-01-09 23:55:00</th>\n      <td>2168.175537</td>\n    </tr>\n    <tr>\n      <th>2013-01-09 23:56:00</th>\n      <td>2137.889160</td>\n    </tr>\n    <tr>\n      <th>2013-01-09 23:57:00</th>\n      <td>2147.401367</td>\n    </tr>\n    <tr>\n      <th>2013-01-09 23:58:00</th>\n      <td>2141.551025</td>\n    </tr>\n    <tr>\n      <th>2013-01-09 23:59:00</th>\n      <td>1838.545776</td>\n    </tr>\n  </tbody>\n</table>\n<p>66240 rows × 1 columns</p>\n</div>"
     },
     "execution_count": 37,
     "metadata": {},
     "output_type": "execute_result"
    }
   ],
   "source": [
    "electricity_data"
   ],
   "metadata": {
    "collapsed": false
   }
  },
  {
   "cell_type": "code",
   "execution_count": 38,
   "outputs": [],
   "source": [
    "sliding_window = []\n",
    "lag = 10\n",
    "for i in range(len(electricity_data)-lag):\n",
    "    sliding_window.append(electricity_data[i:i+lag].values)\n",
    "power_sliding = np.array(sliding_window).reshape(-1,lag)\n",
    "\n",
    "num_indices = 24\n",
    "sin_encoding = np.sin(2 * np.pi * electricity_data.index.hour / num_indices)\n",
    "cos_encoding = np.cos(2 * np.pi * electricity_data.index.hour / num_indices)\n",
    "\n",
    "# 将编码后的索引作为新列添加到DataFrame\n",
    "electricity_data['sin_index'] = sin_encoding\n",
    "electricity_data['cos_index'] = cos_encoding\n",
    "time_info = electricity_data[:-lag].iloc[:,[1,2]]\n",
    "electricity_data = np.concatenate([power_sliding,time_info],axis=1)\n",
    "electricity_data = MinMaxScaler().fit_transform(electricity_data)"
   ],
   "metadata": {
    "collapsed": false
   }
  },
  {
   "cell_type": "code",
   "execution_count": 39,
   "outputs": [
    {
     "data": {
      "text/plain": "                     occupancy\n2012-11-24 00:00:00          1\n2012-11-24 00:01:00          1\n2012-11-24 00:02:00          1\n2012-11-24 00:03:00          1\n2012-11-24 00:04:00          1\n...                        ...\n2013-01-09 23:55:00          1\n2013-01-09 23:56:00          1\n2013-01-09 23:57:00          1\n2013-01-09 23:58:00          1\n2013-01-09 23:59:00          1\n\n[66240 rows x 1 columns]",
      "text/html": "<div>\n<style scoped>\n    .dataframe tbody tr th:only-of-type {\n        vertical-align: middle;\n    }\n\n    .dataframe tbody tr th {\n        vertical-align: top;\n    }\n\n    .dataframe thead th {\n        text-align: right;\n    }\n</style>\n<table border=\"1\" class=\"dataframe\">\n  <thead>\n    <tr style=\"text-align: right;\">\n      <th></th>\n      <th>occupancy</th>\n    </tr>\n  </thead>\n  <tbody>\n    <tr>\n      <th>2012-11-24 00:00:00</th>\n      <td>1</td>\n    </tr>\n    <tr>\n      <th>2012-11-24 00:01:00</th>\n      <td>1</td>\n    </tr>\n    <tr>\n      <th>2012-11-24 00:02:00</th>\n      <td>1</td>\n    </tr>\n    <tr>\n      <th>2012-11-24 00:03:00</th>\n      <td>1</td>\n    </tr>\n    <tr>\n      <th>2012-11-24 00:04:00</th>\n      <td>1</td>\n    </tr>\n    <tr>\n      <th>...</th>\n      <td>...</td>\n    </tr>\n    <tr>\n      <th>2013-01-09 23:55:00</th>\n      <td>1</td>\n    </tr>\n    <tr>\n      <th>2013-01-09 23:56:00</th>\n      <td>1</td>\n    </tr>\n    <tr>\n      <th>2013-01-09 23:57:00</th>\n      <td>1</td>\n    </tr>\n    <tr>\n      <th>2013-01-09 23:58:00</th>\n      <td>1</td>\n    </tr>\n    <tr>\n      <th>2013-01-09 23:59:00</th>\n      <td>1</td>\n    </tr>\n  </tbody>\n</table>\n<p>66240 rows × 1 columns</p>\n</div>"
     },
     "execution_count": 39,
     "metadata": {},
     "output_type": "execute_result"
    }
   ],
   "source": [
    "occupancy_state"
   ],
   "metadata": {
    "collapsed": false
   }
  },
  {
   "cell_type": "code",
   "execution_count": 40,
   "outputs": [],
   "source": [
    "occupancy_state = occupancy_state[:-10]\n",
    "from sklearn.preprocessing import OneHotEncoder\n",
    "occupancy_state = OneHotEncoder().fit_transform(occupancy_state.values).toarray()"
   ],
   "metadata": {
    "collapsed": false
   }
  },
  {
   "cell_type": "code",
   "execution_count": 41,
   "outputs": [],
   "source": [
    "test_dataset2 = Dataset(occupancy_state,electricity_data)"
   ],
   "metadata": {
    "collapsed": false
   }
  },
  {
   "cell_type": "code",
   "execution_count": 42,
   "outputs": [
    {
     "data": {
      "text/plain": "array([[0.41958662, 0.20975534, 0.00755742, ..., 0.00747854, 0.5       ,\n        1.        ],\n       [0.20975534, 0.00755742, 0.00753916, ..., 0.00745571, 0.5       ,\n        1.        ],\n       [0.00755742, 0.00753916, 0.0084334 , ..., 0.00744119, 0.5       ,\n        1.        ],\n       ...,\n       [0.01642407, 0.41205695, 0.41816515, ..., 0.40861997, 0.37059048,\n        0.98296291],\n       [0.41205695, 0.41816515, 0.41762295, ..., 0.41045805, 0.37059048,\n        0.98296291],\n       [0.41816515, 0.41762295, 0.41683331, ..., 0.40932757, 0.37059048,\n        0.98296291]])"
     },
     "execution_count": 42,
     "metadata": {},
     "output_type": "execute_result"
    }
   ],
   "source": [
    "test_dataset2.data"
   ],
   "metadata": {
    "collapsed": false
   }
  },
  {
   "cell_type": "code",
   "execution_count": 42,
   "outputs": [
    {
     "name": "stdout",
     "output_type": "stream",
     "text": [
      "Epoch 00, Loss: 373.6660622615018\n"
     ]
    },
    {
     "name": "stderr",
     "output_type": "stream",
     "text": [
      "ERROR:root:Internal Python error in the inspect module.\n",
      "Below is the traceback from this internal error.\n",
      "\n"
     ]
    },
    {
     "name": "stdout",
     "output_type": "stream",
     "text": [
      "Traceback (most recent call last):\n",
      "  File \"C:\\Users\\ASUS\\anaconda3\\lib\\site-packages\\IPython\\core\\interactiveshell.py\", line 3444, in run_code\n",
      "    exec(code_obj, self.user_global_ns, self.user_ns)\n",
      "  File \"C:\\Users\\ASUS\\AppData\\Local\\Temp/ipykernel_33540/3651869894.py\", line 10, in <module>\n",
      "    prediction = lstm.run()\n",
      "  File \"C:\\Users\\ASUS\\Desktop\\OccupancyWatch\\core\\model\\rnn.py\", line 74, in run\n",
      "    loss = model.train_on_batch(epoch_x, epoch_y)\n",
      "  File \"C:\\Users\\ASUS\\anaconda3\\lib\\site-packages\\keras\\src\\engine\\training.py\", line 2680, in train_on_batch\n",
      "    iterator = data_adapter.single_batch_iterator(\n",
      "  File \"C:\\Users\\ASUS\\anaconda3\\lib\\site-packages\\keras\\src\\engine\\data_adapter.py\", line 1935, in single_batch_iterator\n",
      "    return iter(dataset)\n",
      "  File \"C:\\Users\\ASUS\\anaconda3\\lib\\site-packages\\tensorflow\\python\\data\\ops\\dataset_ops.py\", line 506, in __iter__\n",
      "    return iterator_ops.OwnedIterator(self)\n",
      "  File \"C:\\Users\\ASUS\\anaconda3\\lib\\site-packages\\tensorflow\\python\\data\\ops\\iterator_ops.py\", line 710, in __init__\n",
      "    self._create_iterator(dataset)\n",
      "  File \"C:\\Users\\ASUS\\anaconda3\\lib\\site-packages\\tensorflow\\python\\data\\ops\\iterator_ops.py\", line 749, in _create_iterator\n",
      "    gen_dataset_ops.make_iterator(ds_variant, self._iterator_resource)\n",
      "  File \"C:\\Users\\ASUS\\anaconda3\\lib\\site-packages\\tensorflow\\python\\ops\\gen_dataset_ops.py\", line 3451, in make_iterator\n",
      "    _result = pywrap_tfe.TFE_Py_FastPathExecute(\n",
      "KeyboardInterrupt\n",
      "\n",
      "During handling of the above exception, another exception occurred:\n",
      "\n",
      "Traceback (most recent call last):\n",
      "  File \"C:\\Users\\ASUS\\anaconda3\\lib\\site-packages\\IPython\\core\\interactiveshell.py\", line 2064, in showtraceback\n",
      "    stb = value._render_traceback_()\n",
      "AttributeError: 'KeyboardInterrupt' object has no attribute '_render_traceback_'\n",
      "\n",
      "During handling of the above exception, another exception occurred:\n",
      "\n",
      "Traceback (most recent call last):\n",
      "  File \"C:\\Users\\ASUS\\anaconda3\\lib\\site-packages\\IPython\\core\\ultratb.py\", line 1101, in get_records\n",
      "    return _fixed_getinnerframes(etb, number_of_lines_of_context, tb_offset)\n",
      "  File \"C:\\Users\\ASUS\\anaconda3\\lib\\site-packages\\IPython\\core\\ultratb.py\", line 248, in wrapped\n",
      "    return f(*args, **kwargs)\n",
      "  File \"C:\\Users\\ASUS\\anaconda3\\lib\\site-packages\\IPython\\core\\ultratb.py\", line 281, in _fixed_getinnerframes\n",
      "    records = fix_frame_records_filenames(inspect.getinnerframes(etb, context))\n",
      "  File \"C:\\Users\\ASUS\\anaconda3\\lib\\inspect.py\", line 1541, in getinnerframes\n",
      "    frameinfo = (tb.tb_frame,) + getframeinfo(tb, context)\n",
      "  File \"C:\\Users\\ASUS\\anaconda3\\lib\\inspect.py\", line 1499, in getframeinfo\n",
      "    filename = getsourcefile(frame) or getfile(frame)\n",
      "  File \"C:\\Users\\ASUS\\anaconda3\\lib\\inspect.py\", line 709, in getsourcefile\n",
      "    if getattr(getmodule(object, filename), '__loader__', None) is not None:\n",
      "  File \"C:\\Users\\ASUS\\anaconda3\\lib\\inspect.py\", line 755, in getmodule\n",
      "    os.path.realpath(f)] = module.__name__\n",
      "  File \"C:\\Users\\ASUS\\anaconda3\\lib\\ntpath.py\", line 664, in realpath\n",
      "    if _getfinalpathname(spath) == path:\n",
      "KeyboardInterrupt\n"
     ]
    },
    {
     "name": "stderr",
     "output_type": "stream",
     "text": [
      "ERROR:root:Internal Python error in the inspect module.\n",
      "Below is the traceback from this internal error.\n",
      "\n"
     ]
    },
    {
     "name": "stdout",
     "output_type": "stream",
     "text": [
      "Traceback (most recent call last):\n",
      "  File \"C:\\Users\\ASUS\\anaconda3\\lib\\site-packages\\IPython\\core\\interactiveshell.py\", line 3444, in run_code\n",
      "    exec(code_obj, self.user_global_ns, self.user_ns)\n",
      "  File \"C:\\Users\\ASUS\\AppData\\Local\\Temp/ipykernel_33540/3651869894.py\", line 10, in <module>\n",
      "    prediction = lstm.run()\n",
      "  File \"C:\\Users\\ASUS\\Desktop\\OccupancyWatch\\core\\model\\rnn.py\", line 74, in run\n",
      "    loss = model.train_on_batch(epoch_x, epoch_y)\n",
      "  File \"C:\\Users\\ASUS\\anaconda3\\lib\\site-packages\\keras\\src\\engine\\training.py\", line 2680, in train_on_batch\n",
      "    iterator = data_adapter.single_batch_iterator(\n",
      "  File \"C:\\Users\\ASUS\\anaconda3\\lib\\site-packages\\keras\\src\\engine\\data_adapter.py\", line 1935, in single_batch_iterator\n",
      "    return iter(dataset)\n",
      "  File \"C:\\Users\\ASUS\\anaconda3\\lib\\site-packages\\tensorflow\\python\\data\\ops\\dataset_ops.py\", line 506, in __iter__\n",
      "    return iterator_ops.OwnedIterator(self)\n",
      "  File \"C:\\Users\\ASUS\\anaconda3\\lib\\site-packages\\tensorflow\\python\\data\\ops\\iterator_ops.py\", line 710, in __init__\n",
      "    self._create_iterator(dataset)\n",
      "  File \"C:\\Users\\ASUS\\anaconda3\\lib\\site-packages\\tensorflow\\python\\data\\ops\\iterator_ops.py\", line 749, in _create_iterator\n",
      "    gen_dataset_ops.make_iterator(ds_variant, self._iterator_resource)\n",
      "  File \"C:\\Users\\ASUS\\anaconda3\\lib\\site-packages\\tensorflow\\python\\ops\\gen_dataset_ops.py\", line 3451, in make_iterator\n",
      "    _result = pywrap_tfe.TFE_Py_FastPathExecute(\n",
      "KeyboardInterrupt\n",
      "\n",
      "During handling of the above exception, another exception occurred:\n",
      "\n",
      "Traceback (most recent call last):\n",
      "  File \"C:\\Users\\ASUS\\anaconda3\\lib\\site-packages\\IPython\\core\\interactiveshell.py\", line 2064, in showtraceback\n",
      "    stb = value._render_traceback_()\n",
      "AttributeError: 'KeyboardInterrupt' object has no attribute '_render_traceback_'\n",
      "\n",
      "During handling of the above exception, another exception occurred:\n",
      "\n",
      "Traceback (most recent call last):\n",
      "  File \"C:\\Users\\ASUS\\anaconda3\\lib\\site-packages\\IPython\\core\\interactiveshell.py\", line 3364, in run_ast_nodes\n",
      "    if (await self.run_code(code, result,  async_=asy)):\n",
      "  File \"C:\\Users\\ASUS\\anaconda3\\lib\\site-packages\\IPython\\core\\interactiveshell.py\", line 3461, in run_code\n",
      "    self.showtraceback(running_compiled_code=True)\n",
      "  File \"C:\\Users\\ASUS\\anaconda3\\lib\\site-packages\\IPython\\core\\interactiveshell.py\", line 2066, in showtraceback\n",
      "    stb = self.InteractiveTB.structured_traceback(etype,\n",
      "  File \"C:\\Users\\ASUS\\anaconda3\\lib\\site-packages\\IPython\\core\\ultratb.py\", line 1367, in structured_traceback\n",
      "    return FormattedTB.structured_traceback(\n",
      "  File \"C:\\Users\\ASUS\\anaconda3\\lib\\site-packages\\IPython\\core\\ultratb.py\", line 1267, in structured_traceback\n",
      "    return VerboseTB.structured_traceback(\n",
      "  File \"C:\\Users\\ASUS\\anaconda3\\lib\\site-packages\\IPython\\core\\ultratb.py\", line 1124, in structured_traceback\n",
      "    formatted_exception = self.format_exception_as_a_whole(etype, evalue, etb, number_of_lines_of_context,\n",
      "  File \"C:\\Users\\ASUS\\anaconda3\\lib\\site-packages\\IPython\\core\\ultratb.py\", line 1082, in format_exception_as_a_whole\n",
      "    last_unique, recursion_repeat = find_recursion(orig_etype, evalue, records)\n",
      "  File \"C:\\Users\\ASUS\\anaconda3\\lib\\site-packages\\IPython\\core\\ultratb.py\", line 382, in find_recursion\n",
      "    return len(records), 0\n",
      "TypeError: object of type 'NoneType' has no len()\n",
      "\n",
      "During handling of the above exception, another exception occurred:\n",
      "\n",
      "Traceback (most recent call last):\n",
      "  File \"C:\\Users\\ASUS\\anaconda3\\lib\\site-packages\\IPython\\core\\interactiveshell.py\", line 2064, in showtraceback\n",
      "    stb = value._render_traceback_()\n",
      "AttributeError: 'TypeError' object has no attribute '_render_traceback_'\n",
      "\n",
      "During handling of the above exception, another exception occurred:\n",
      "\n",
      "Traceback (most recent call last):\n",
      "  File \"C:\\Users\\ASUS\\anaconda3\\lib\\site-packages\\IPython\\core\\ultratb.py\", line 1101, in get_records\n",
      "    return _fixed_getinnerframes(etb, number_of_lines_of_context, tb_offset)\n",
      "  File \"C:\\Users\\ASUS\\anaconda3\\lib\\site-packages\\IPython\\core\\ultratb.py\", line 248, in wrapped\n",
      "    return f(*args, **kwargs)\n",
      "  File \"C:\\Users\\ASUS\\anaconda3\\lib\\site-packages\\IPython\\core\\ultratb.py\", line 281, in _fixed_getinnerframes\n",
      "    records = fix_frame_records_filenames(inspect.getinnerframes(etb, context))\n",
      "  File \"C:\\Users\\ASUS\\anaconda3\\lib\\inspect.py\", line 1541, in getinnerframes\n",
      "    frameinfo = (tb.tb_frame,) + getframeinfo(tb, context)\n",
      "  File \"C:\\Users\\ASUS\\anaconda3\\lib\\inspect.py\", line 1499, in getframeinfo\n",
      "    filename = getsourcefile(frame) or getfile(frame)\n",
      "  File \"C:\\Users\\ASUS\\anaconda3\\lib\\inspect.py\", line 709, in getsourcefile\n",
      "    if getattr(getmodule(object, filename), '__loader__', None) is not None:\n",
      "  File \"C:\\Users\\ASUS\\anaconda3\\lib\\inspect.py\", line 755, in getmodule\n",
      "    os.path.realpath(f)] = module.__name__\n",
      "  File \"C:\\Users\\ASUS\\anaconda3\\lib\\ntpath.py\", line 664, in realpath\n",
      "    if _getfinalpathname(spath) == path:\n",
      "KeyboardInterrupt\n"
     ]
    },
    {
     "ename": "TypeError",
     "evalue": "object of type 'NoneType' has no len()",
     "output_type": "error",
     "traceback": [
      "\u001B[1;31m---------------------------------------------------------------------------\u001B[0m",
      "\u001B[1;31mKeyboardInterrupt\u001B[0m                         Traceback (most recent call last)",
      "    \u001B[1;31m[... skipping hidden 1 frame]\u001B[0m\n",
      "\u001B[1;32m~\\AppData\\Local\\Temp/ipykernel_33540/3651869894.py\u001B[0m in \u001B[0;36m<module>\u001B[1;34m\u001B[0m\n\u001B[0;32m      9\u001B[0m \u001B[0mlstm\u001B[0m \u001B[1;33m=\u001B[0m \u001B[0mLSTM\u001B[0m\u001B[1;33m(\u001B[0m\u001B[0mtrain_dataset\u001B[0m\u001B[1;33m,\u001B[0m \u001B[0mtest_dataset2\u001B[0m\u001B[1;33m,\u001B[0m\u001B[0mepoch\u001B[0m\u001B[1;33m=\u001B[0m\u001B[1;36m10\u001B[0m\u001B[1;33m)\u001B[0m\u001B[1;33m\u001B[0m\u001B[1;33m\u001B[0m\u001B[0m\n\u001B[1;32m---> 10\u001B[1;33m \u001B[0mprediction\u001B[0m \u001B[1;33m=\u001B[0m \u001B[0mlstm\u001B[0m\u001B[1;33m.\u001B[0m\u001B[0mrun\u001B[0m\u001B[1;33m(\u001B[0m\u001B[1;33m)\u001B[0m\u001B[1;33m\u001B[0m\u001B[1;33m\u001B[0m\u001B[0m\n\u001B[0m",
      "\u001B[1;32m~\\Desktop\\OccupancyWatch\\core\\model\\rnn.py\u001B[0m in \u001B[0;36mrun\u001B[1;34m(self)\u001B[0m\n\u001B[0;32m     73\u001B[0m                 \u001B[1;31m# Train the model on the current batch and get the loss\u001B[0m\u001B[1;33m\u001B[0m\u001B[1;33m\u001B[0m\u001B[0m\n\u001B[1;32m---> 74\u001B[1;33m                 \u001B[0mloss\u001B[0m \u001B[1;33m=\u001B[0m \u001B[0mmodel\u001B[0m\u001B[1;33m.\u001B[0m\u001B[0mtrain_on_batch\u001B[0m\u001B[1;33m(\u001B[0m\u001B[0mepoch_x\u001B[0m\u001B[1;33m,\u001B[0m \u001B[0mepoch_y\u001B[0m\u001B[1;33m)\u001B[0m\u001B[1;33m\u001B[0m\u001B[1;33m\u001B[0m\u001B[0m\n\u001B[0m\u001B[0;32m     75\u001B[0m                 \u001B[0mepoch_loss\u001B[0m \u001B[1;33m+=\u001B[0m \u001B[0msum\u001B[0m\u001B[1;33m(\u001B[0m\u001B[0mloss\u001B[0m\u001B[1;33m)\u001B[0m\u001B[1;33m/\u001B[0m\u001B[0mlen\u001B[0m\u001B[1;33m(\u001B[0m\u001B[0mloss\u001B[0m\u001B[1;33m)\u001B[0m  \u001B[1;31m# Accumulate the batch loss\u001B[0m\u001B[1;33m\u001B[0m\u001B[1;33m\u001B[0m\u001B[0m\n",
      "\u001B[1;32m~\\anaconda3\\lib\\site-packages\\keras\\src\\engine\\training.py\u001B[0m in \u001B[0;36mtrain_on_batch\u001B[1;34m(self, x, y, sample_weight, class_weight, reset_metrics, return_dict)\u001B[0m\n\u001B[0;32m   2679\u001B[0m         ):\n\u001B[1;32m-> 2680\u001B[1;33m             iterator = data_adapter.single_batch_iterator(\n\u001B[0m\u001B[0;32m   2681\u001B[0m                 \u001B[0mself\u001B[0m\u001B[1;33m.\u001B[0m\u001B[0mdistribute_strategy\u001B[0m\u001B[1;33m,\u001B[0m \u001B[0mx\u001B[0m\u001B[1;33m,\u001B[0m \u001B[0my\u001B[0m\u001B[1;33m,\u001B[0m \u001B[0msample_weight\u001B[0m\u001B[1;33m,\u001B[0m \u001B[0mclass_weight\u001B[0m\u001B[1;33m\u001B[0m\u001B[1;33m\u001B[0m\u001B[0m\n",
      "\u001B[1;32m~\\anaconda3\\lib\\site-packages\\keras\\src\\engine\\data_adapter.py\u001B[0m in \u001B[0;36msingle_batch_iterator\u001B[1;34m(strategy, x, y, sample_weight, class_weight)\u001B[0m\n\u001B[0;32m   1934\u001B[0m     \u001B[0mdataset\u001B[0m \u001B[1;33m=\u001B[0m \u001B[0mstrategy\u001B[0m\u001B[1;33m.\u001B[0m\u001B[0mexperimental_distribute_dataset\u001B[0m\u001B[1;33m(\u001B[0m\u001B[0mdataset\u001B[0m\u001B[1;33m)\u001B[0m\u001B[1;33m\u001B[0m\u001B[1;33m\u001B[0m\u001B[0m\n\u001B[1;32m-> 1935\u001B[1;33m     \u001B[1;32mreturn\u001B[0m \u001B[0miter\u001B[0m\u001B[1;33m(\u001B[0m\u001B[0mdataset\u001B[0m\u001B[1;33m)\u001B[0m\u001B[1;33m\u001B[0m\u001B[1;33m\u001B[0m\u001B[0m\n\u001B[0m\u001B[0;32m   1936\u001B[0m \u001B[1;33m\u001B[0m\u001B[0m\n",
      "\u001B[1;32m~\\anaconda3\\lib\\site-packages\\tensorflow\\python\\data\\ops\\dataset_ops.py\u001B[0m in \u001B[0;36m__iter__\u001B[1;34m(self)\u001B[0m\n\u001B[0;32m    505\u001B[0m       \u001B[1;32mwith\u001B[0m \u001B[0mops\u001B[0m\u001B[1;33m.\u001B[0m\u001B[0mcolocate_with\u001B[0m\u001B[1;33m(\u001B[0m\u001B[0mself\u001B[0m\u001B[1;33m.\u001B[0m\u001B[0m_variant_tensor\u001B[0m\u001B[1;33m)\u001B[0m\u001B[1;33m:\u001B[0m\u001B[1;33m\u001B[0m\u001B[1;33m\u001B[0m\u001B[0m\n\u001B[1;32m--> 506\u001B[1;33m         \u001B[1;32mreturn\u001B[0m \u001B[0miterator_ops\u001B[0m\u001B[1;33m.\u001B[0m\u001B[0mOwnedIterator\u001B[0m\u001B[1;33m(\u001B[0m\u001B[0mself\u001B[0m\u001B[1;33m)\u001B[0m\u001B[1;33m\u001B[0m\u001B[1;33m\u001B[0m\u001B[0m\n\u001B[0m\u001B[0;32m    507\u001B[0m     \u001B[1;32melse\u001B[0m\u001B[1;33m:\u001B[0m\u001B[1;33m\u001B[0m\u001B[1;33m\u001B[0m\u001B[0m\n",
      "\u001B[1;32m~\\anaconda3\\lib\\site-packages\\tensorflow\\python\\data\\ops\\iterator_ops.py\u001B[0m in \u001B[0;36m__init__\u001B[1;34m(self, dataset, components, element_spec)\u001B[0m\n\u001B[0;32m    709\u001B[0m             \"not be specified.\")\n\u001B[1;32m--> 710\u001B[1;33m       \u001B[0mself\u001B[0m\u001B[1;33m.\u001B[0m\u001B[0m_create_iterator\u001B[0m\u001B[1;33m(\u001B[0m\u001B[0mdataset\u001B[0m\u001B[1;33m)\u001B[0m\u001B[1;33m\u001B[0m\u001B[1;33m\u001B[0m\u001B[0m\n\u001B[0m\u001B[0;32m    711\u001B[0m \u001B[1;33m\u001B[0m\u001B[0m\n",
      "\u001B[1;32m~\\anaconda3\\lib\\site-packages\\tensorflow\\python\\data\\ops\\iterator_ops.py\u001B[0m in \u001B[0;36m_create_iterator\u001B[1;34m(self, dataset)\u001B[0m\n\u001B[0;32m    748\u001B[0m         \u001B[0mself\u001B[0m\u001B[1;33m.\u001B[0m\u001B[0m_iterator_resource\u001B[0m\u001B[1;33m.\u001B[0m\u001B[0mop\u001B[0m\u001B[1;33m.\u001B[0m\u001B[0mexperimental_set_type\u001B[0m\u001B[1;33m(\u001B[0m\u001B[0mfulltype\u001B[0m\u001B[1;33m)\u001B[0m\u001B[1;33m\u001B[0m\u001B[1;33m\u001B[0m\u001B[0m\n\u001B[1;32m--> 749\u001B[1;33m       \u001B[0mgen_dataset_ops\u001B[0m\u001B[1;33m.\u001B[0m\u001B[0mmake_iterator\u001B[0m\u001B[1;33m(\u001B[0m\u001B[0mds_variant\u001B[0m\u001B[1;33m,\u001B[0m \u001B[0mself\u001B[0m\u001B[1;33m.\u001B[0m\u001B[0m_iterator_resource\u001B[0m\u001B[1;33m)\u001B[0m\u001B[1;33m\u001B[0m\u001B[1;33m\u001B[0m\u001B[0m\n\u001B[0m\u001B[0;32m    750\u001B[0m \u001B[1;33m\u001B[0m\u001B[0m\n",
      "\u001B[1;32m~\\anaconda3\\lib\\site-packages\\tensorflow\\python\\ops\\gen_dataset_ops.py\u001B[0m in \u001B[0;36mmake_iterator\u001B[1;34m(dataset, iterator, name)\u001B[0m\n\u001B[0;32m   3450\u001B[0m     \u001B[1;32mtry\u001B[0m\u001B[1;33m:\u001B[0m\u001B[1;33m\u001B[0m\u001B[1;33m\u001B[0m\u001B[0m\n\u001B[1;32m-> 3451\u001B[1;33m       _result = pywrap_tfe.TFE_Py_FastPathExecute(\n\u001B[0m\u001B[0;32m   3452\u001B[0m         _ctx, \"MakeIterator\", name, dataset, iterator)\n",
      "\u001B[1;31mKeyboardInterrupt\u001B[0m: ",
      "\nDuring handling of the above exception, another exception occurred:\n",
      "\u001B[1;31mAttributeError\u001B[0m                            Traceback (most recent call last)",
      "\u001B[1;32m~\\anaconda3\\lib\\site-packages\\IPython\\core\\interactiveshell.py\u001B[0m in \u001B[0;36mshowtraceback\u001B[1;34m(self, exc_tuple, filename, tb_offset, exception_only, running_compiled_code)\u001B[0m\n\u001B[0;32m   2063\u001B[0m                         \u001B[1;31m# in the engines. This should return a list of strings.\u001B[0m\u001B[1;33m\u001B[0m\u001B[1;33m\u001B[0m\u001B[0m\n\u001B[1;32m-> 2064\u001B[1;33m                         \u001B[0mstb\u001B[0m \u001B[1;33m=\u001B[0m \u001B[0mvalue\u001B[0m\u001B[1;33m.\u001B[0m\u001B[0m_render_traceback_\u001B[0m\u001B[1;33m(\u001B[0m\u001B[1;33m)\u001B[0m\u001B[1;33m\u001B[0m\u001B[1;33m\u001B[0m\u001B[0m\n\u001B[0m\u001B[0;32m   2065\u001B[0m                     \u001B[1;32mexcept\u001B[0m \u001B[0mException\u001B[0m\u001B[1;33m:\u001B[0m\u001B[1;33m\u001B[0m\u001B[1;33m\u001B[0m\u001B[0m\n",
      "\u001B[1;31mAttributeError\u001B[0m: 'KeyboardInterrupt' object has no attribute '_render_traceback_'",
      "\nDuring handling of the above exception, another exception occurred:\n",
      "\u001B[1;31mTypeError\u001B[0m                                 Traceback (most recent call last)",
      "\u001B[1;32m~\\anaconda3\\lib\\site-packages\\IPython\\core\\interactiveshell.py\u001B[0m in \u001B[0;36mrun_ast_nodes\u001B[1;34m(self, nodelist, cell_name, interactivity, compiler, result)\u001B[0m\n\u001B[0;32m   3363\u001B[0m                         \u001B[0masy\u001B[0m \u001B[1;33m=\u001B[0m \u001B[0mcompare\u001B[0m\u001B[1;33m(\u001B[0m\u001B[0mcode\u001B[0m\u001B[1;33m)\u001B[0m\u001B[1;33m\u001B[0m\u001B[1;33m\u001B[0m\u001B[0m\n\u001B[1;32m-> 3364\u001B[1;33m                     \u001B[1;32mif\u001B[0m \u001B[1;33m(\u001B[0m\u001B[1;32mawait\u001B[0m \u001B[0mself\u001B[0m\u001B[1;33m.\u001B[0m\u001B[0mrun_code\u001B[0m\u001B[1;33m(\u001B[0m\u001B[0mcode\u001B[0m\u001B[1;33m,\u001B[0m \u001B[0mresult\u001B[0m\u001B[1;33m,\u001B[0m  \u001B[0masync_\u001B[0m\u001B[1;33m=\u001B[0m\u001B[0masy\u001B[0m\u001B[1;33m)\u001B[0m\u001B[1;33m)\u001B[0m\u001B[1;33m:\u001B[0m\u001B[1;33m\u001B[0m\u001B[1;33m\u001B[0m\u001B[0m\n\u001B[0m\u001B[0;32m   3365\u001B[0m                         \u001B[1;32mreturn\u001B[0m \u001B[1;32mTrue\u001B[0m\u001B[1;33m\u001B[0m\u001B[1;33m\u001B[0m\u001B[0m\n",
      "    \u001B[1;31m[... skipping hidden 1 frame]\u001B[0m\n",
      "\u001B[1;32m~\\anaconda3\\lib\\site-packages\\IPython\\core\\interactiveshell.py\u001B[0m in \u001B[0;36mshowtraceback\u001B[1;34m(self, exc_tuple, filename, tb_offset, exception_only, running_compiled_code)\u001B[0m\n\u001B[0;32m   2065\u001B[0m                     \u001B[1;32mexcept\u001B[0m \u001B[0mException\u001B[0m\u001B[1;33m:\u001B[0m\u001B[1;33m\u001B[0m\u001B[1;33m\u001B[0m\u001B[0m\n\u001B[1;32m-> 2066\u001B[1;33m                         stb = self.InteractiveTB.structured_traceback(etype,\n\u001B[0m\u001B[0;32m   2067\u001B[0m                                             value, tb, tb_offset=tb_offset)\n",
      "\u001B[1;32m~\\anaconda3\\lib\\site-packages\\IPython\\core\\ultratb.py\u001B[0m in \u001B[0;36mstructured_traceback\u001B[1;34m(self, etype, value, tb, tb_offset, number_of_lines_of_context)\u001B[0m\n\u001B[0;32m   1366\u001B[0m             \u001B[0mself\u001B[0m\u001B[1;33m.\u001B[0m\u001B[0mtb\u001B[0m \u001B[1;33m=\u001B[0m \u001B[0mtb\u001B[0m\u001B[1;33m\u001B[0m\u001B[1;33m\u001B[0m\u001B[0m\n\u001B[1;32m-> 1367\u001B[1;33m         return FormattedTB.structured_traceback(\n\u001B[0m\u001B[0;32m   1368\u001B[0m             self, etype, value, tb, tb_offset, number_of_lines_of_context)\n",
      "\u001B[1;32m~\\anaconda3\\lib\\site-packages\\IPython\\core\\ultratb.py\u001B[0m in \u001B[0;36mstructured_traceback\u001B[1;34m(self, etype, value, tb, tb_offset, number_of_lines_of_context)\u001B[0m\n\u001B[0;32m   1266\u001B[0m             \u001B[1;31m# Verbose modes need a full traceback\u001B[0m\u001B[1;33m\u001B[0m\u001B[1;33m\u001B[0m\u001B[0m\n\u001B[1;32m-> 1267\u001B[1;33m             return VerboseTB.structured_traceback(\n\u001B[0m\u001B[0;32m   1268\u001B[0m                 \u001B[0mself\u001B[0m\u001B[1;33m,\u001B[0m \u001B[0metype\u001B[0m\u001B[1;33m,\u001B[0m \u001B[0mvalue\u001B[0m\u001B[1;33m,\u001B[0m \u001B[0mtb\u001B[0m\u001B[1;33m,\u001B[0m \u001B[0mtb_offset\u001B[0m\u001B[1;33m,\u001B[0m \u001B[0mnumber_of_lines_of_context\u001B[0m\u001B[1;33m\u001B[0m\u001B[1;33m\u001B[0m\u001B[0m\n",
      "\u001B[1;32m~\\anaconda3\\lib\\site-packages\\IPython\\core\\ultratb.py\u001B[0m in \u001B[0;36mstructured_traceback\u001B[1;34m(self, etype, evalue, etb, tb_offset, number_of_lines_of_context)\u001B[0m\n\u001B[0;32m   1123\u001B[0m \u001B[1;33m\u001B[0m\u001B[0m\n\u001B[1;32m-> 1124\u001B[1;33m         formatted_exception = self.format_exception_as_a_whole(etype, evalue, etb, number_of_lines_of_context,\n\u001B[0m\u001B[0;32m   1125\u001B[0m                                                                tb_offset)\n",
      "\u001B[1;32m~\\anaconda3\\lib\\site-packages\\IPython\\core\\ultratb.py\u001B[0m in \u001B[0;36mformat_exception_as_a_whole\u001B[1;34m(self, etype, evalue, etb, number_of_lines_of_context, tb_offset)\u001B[0m\n\u001B[0;32m   1081\u001B[0m \u001B[1;33m\u001B[0m\u001B[0m\n\u001B[1;32m-> 1082\u001B[1;33m         \u001B[0mlast_unique\u001B[0m\u001B[1;33m,\u001B[0m \u001B[0mrecursion_repeat\u001B[0m \u001B[1;33m=\u001B[0m \u001B[0mfind_recursion\u001B[0m\u001B[1;33m(\u001B[0m\u001B[0morig_etype\u001B[0m\u001B[1;33m,\u001B[0m \u001B[0mevalue\u001B[0m\u001B[1;33m,\u001B[0m \u001B[0mrecords\u001B[0m\u001B[1;33m)\u001B[0m\u001B[1;33m\u001B[0m\u001B[1;33m\u001B[0m\u001B[0m\n\u001B[0m\u001B[0;32m   1083\u001B[0m \u001B[1;33m\u001B[0m\u001B[0m\n",
      "\u001B[1;32m~\\anaconda3\\lib\\site-packages\\IPython\\core\\ultratb.py\u001B[0m in \u001B[0;36mfind_recursion\u001B[1;34m(etype, value, records)\u001B[0m\n\u001B[0;32m    381\u001B[0m     \u001B[1;32mif\u001B[0m \u001B[1;32mnot\u001B[0m \u001B[0mis_recursion_error\u001B[0m\u001B[1;33m(\u001B[0m\u001B[0metype\u001B[0m\u001B[1;33m,\u001B[0m \u001B[0mvalue\u001B[0m\u001B[1;33m,\u001B[0m \u001B[0mrecords\u001B[0m\u001B[1;33m)\u001B[0m\u001B[1;33m:\u001B[0m\u001B[1;33m\u001B[0m\u001B[1;33m\u001B[0m\u001B[0m\n\u001B[1;32m--> 382\u001B[1;33m         \u001B[1;32mreturn\u001B[0m \u001B[0mlen\u001B[0m\u001B[1;33m(\u001B[0m\u001B[0mrecords\u001B[0m\u001B[1;33m)\u001B[0m\u001B[1;33m,\u001B[0m \u001B[1;36m0\u001B[0m\u001B[1;33m\u001B[0m\u001B[1;33m\u001B[0m\u001B[0m\n\u001B[0m\u001B[0;32m    383\u001B[0m \u001B[1;33m\u001B[0m\u001B[0m\n",
      "\u001B[1;31mTypeError\u001B[0m: object of type 'NoneType' has no len()",
      "\nDuring handling of the above exception, another exception occurred:\n",
      "\u001B[1;31mAttributeError\u001B[0m                            Traceback (most recent call last)",
      "\u001B[1;32m~\\anaconda3\\lib\\site-packages\\IPython\\core\\interactiveshell.py\u001B[0m in \u001B[0;36mshowtraceback\u001B[1;34m(self, exc_tuple, filename, tb_offset, exception_only, running_compiled_code)\u001B[0m\n\u001B[0;32m   2063\u001B[0m                         \u001B[1;31m# in the engines. This should return a list of strings.\u001B[0m\u001B[1;33m\u001B[0m\u001B[1;33m\u001B[0m\u001B[0m\n\u001B[1;32m-> 2064\u001B[1;33m                         \u001B[0mstb\u001B[0m \u001B[1;33m=\u001B[0m \u001B[0mvalue\u001B[0m\u001B[1;33m.\u001B[0m\u001B[0m_render_traceback_\u001B[0m\u001B[1;33m(\u001B[0m\u001B[1;33m)\u001B[0m\u001B[1;33m\u001B[0m\u001B[1;33m\u001B[0m\u001B[0m\n\u001B[0m\u001B[0;32m   2065\u001B[0m                     \u001B[1;32mexcept\u001B[0m \u001B[0mException\u001B[0m\u001B[1;33m:\u001B[0m\u001B[1;33m\u001B[0m\u001B[1;33m\u001B[0m\u001B[0m\n",
      "\u001B[1;31mAttributeError\u001B[0m: 'TypeError' object has no attribute '_render_traceback_'",
      "\nDuring handling of the above exception, another exception occurred:\n",
      "\u001B[1;31mTypeError\u001B[0m                                 Traceback (most recent call last)",
      "\u001B[1;32m~\\anaconda3\\lib\\site-packages\\IPython\\core\\async_helpers.py\u001B[0m in \u001B[0;36m_pseudo_sync_runner\u001B[1;34m(coro)\u001B[0m\n\u001B[0;32m     66\u001B[0m     \"\"\"\n\u001B[0;32m     67\u001B[0m     \u001B[1;32mtry\u001B[0m\u001B[1;33m:\u001B[0m\u001B[1;33m\u001B[0m\u001B[1;33m\u001B[0m\u001B[0m\n\u001B[1;32m---> 68\u001B[1;33m         \u001B[0mcoro\u001B[0m\u001B[1;33m.\u001B[0m\u001B[0msend\u001B[0m\u001B[1;33m(\u001B[0m\u001B[1;32mNone\u001B[0m\u001B[1;33m)\u001B[0m\u001B[1;33m\u001B[0m\u001B[1;33m\u001B[0m\u001B[0m\n\u001B[0m\u001B[0;32m     69\u001B[0m     \u001B[1;32mexcept\u001B[0m \u001B[0mStopIteration\u001B[0m \u001B[1;32mas\u001B[0m \u001B[0mexc\u001B[0m\u001B[1;33m:\u001B[0m\u001B[1;33m\u001B[0m\u001B[1;33m\u001B[0m\u001B[0m\n\u001B[0;32m     70\u001B[0m         \u001B[1;32mreturn\u001B[0m \u001B[0mexc\u001B[0m\u001B[1;33m.\u001B[0m\u001B[0mvalue\u001B[0m\u001B[1;33m\u001B[0m\u001B[1;33m\u001B[0m\u001B[0m\n",
      "\u001B[1;32m~\\anaconda3\\lib\\site-packages\\IPython\\core\\interactiveshell.py\u001B[0m in \u001B[0;36mrun_cell_async\u001B[1;34m(self, raw_cell, store_history, silent, shell_futures, transformed_cell, preprocessing_exc_tuple)\u001B[0m\n\u001B[0;32m   3170\u001B[0m                     \u001B[0minteractivity\u001B[0m \u001B[1;33m=\u001B[0m \u001B[1;34m'async'\u001B[0m\u001B[1;33m\u001B[0m\u001B[1;33m\u001B[0m\u001B[0m\n\u001B[0;32m   3171\u001B[0m \u001B[1;33m\u001B[0m\u001B[0m\n\u001B[1;32m-> 3172\u001B[1;33m                 has_raised = await self.run_ast_nodes(code_ast.body, cell_name,\n\u001B[0m\u001B[0;32m   3173\u001B[0m                        interactivity=interactivity, compiler=compiler, result=result)\n\u001B[0;32m   3174\u001B[0m \u001B[1;33m\u001B[0m\u001B[0m\n",
      "\u001B[1;32m~\\anaconda3\\lib\\site-packages\\IPython\\core\\interactiveshell.py\u001B[0m in \u001B[0;36mrun_ast_nodes\u001B[1;34m(self, nodelist, cell_name, interactivity, compiler, result)\u001B[0m\n\u001B[0;32m   3381\u001B[0m             \u001B[1;32mif\u001B[0m \u001B[0mresult\u001B[0m\u001B[1;33m:\u001B[0m\u001B[1;33m\u001B[0m\u001B[1;33m\u001B[0m\u001B[0m\n\u001B[0;32m   3382\u001B[0m                 \u001B[0mresult\u001B[0m\u001B[1;33m.\u001B[0m\u001B[0merror_before_exec\u001B[0m \u001B[1;33m=\u001B[0m \u001B[0msys\u001B[0m\u001B[1;33m.\u001B[0m\u001B[0mexc_info\u001B[0m\u001B[1;33m(\u001B[0m\u001B[1;33m)\u001B[0m\u001B[1;33m[\u001B[0m\u001B[1;36m1\u001B[0m\u001B[1;33m]\u001B[0m\u001B[1;33m\u001B[0m\u001B[1;33m\u001B[0m\u001B[0m\n\u001B[1;32m-> 3383\u001B[1;33m             \u001B[0mself\u001B[0m\u001B[1;33m.\u001B[0m\u001B[0mshowtraceback\u001B[0m\u001B[1;33m(\u001B[0m\u001B[1;33m)\u001B[0m\u001B[1;33m\u001B[0m\u001B[1;33m\u001B[0m\u001B[0m\n\u001B[0m\u001B[0;32m   3384\u001B[0m             \u001B[1;32mreturn\u001B[0m \u001B[1;32mTrue\u001B[0m\u001B[1;33m\u001B[0m\u001B[1;33m\u001B[0m\u001B[0m\n\u001B[0;32m   3385\u001B[0m \u001B[1;33m\u001B[0m\u001B[0m\n",
      "\u001B[1;32m~\\anaconda3\\lib\\site-packages\\IPython\\core\\interactiveshell.py\u001B[0m in \u001B[0;36mshowtraceback\u001B[1;34m(self, exc_tuple, filename, tb_offset, exception_only, running_compiled_code)\u001B[0m\n\u001B[0;32m   2064\u001B[0m                         \u001B[0mstb\u001B[0m \u001B[1;33m=\u001B[0m \u001B[0mvalue\u001B[0m\u001B[1;33m.\u001B[0m\u001B[0m_render_traceback_\u001B[0m\u001B[1;33m(\u001B[0m\u001B[1;33m)\u001B[0m\u001B[1;33m\u001B[0m\u001B[1;33m\u001B[0m\u001B[0m\n\u001B[0;32m   2065\u001B[0m                     \u001B[1;32mexcept\u001B[0m \u001B[0mException\u001B[0m\u001B[1;33m:\u001B[0m\u001B[1;33m\u001B[0m\u001B[1;33m\u001B[0m\u001B[0m\n\u001B[1;32m-> 2066\u001B[1;33m                         stb = self.InteractiveTB.structured_traceback(etype,\n\u001B[0m\u001B[0;32m   2067\u001B[0m                                             value, tb, tb_offset=tb_offset)\n\u001B[0;32m   2068\u001B[0m \u001B[1;33m\u001B[0m\u001B[0m\n",
      "\u001B[1;32m~\\anaconda3\\lib\\site-packages\\IPython\\core\\ultratb.py\u001B[0m in \u001B[0;36mstructured_traceback\u001B[1;34m(self, etype, value, tb, tb_offset, number_of_lines_of_context)\u001B[0m\n\u001B[0;32m   1365\u001B[0m         \u001B[1;32melse\u001B[0m\u001B[1;33m:\u001B[0m\u001B[1;33m\u001B[0m\u001B[1;33m\u001B[0m\u001B[0m\n\u001B[0;32m   1366\u001B[0m             \u001B[0mself\u001B[0m\u001B[1;33m.\u001B[0m\u001B[0mtb\u001B[0m \u001B[1;33m=\u001B[0m \u001B[0mtb\u001B[0m\u001B[1;33m\u001B[0m\u001B[1;33m\u001B[0m\u001B[0m\n\u001B[1;32m-> 1367\u001B[1;33m         return FormattedTB.structured_traceback(\n\u001B[0m\u001B[0;32m   1368\u001B[0m             self, etype, value, tb, tb_offset, number_of_lines_of_context)\n\u001B[0;32m   1369\u001B[0m \u001B[1;33m\u001B[0m\u001B[0m\n",
      "\u001B[1;32m~\\anaconda3\\lib\\site-packages\\IPython\\core\\ultratb.py\u001B[0m in \u001B[0;36mstructured_traceback\u001B[1;34m(self, etype, value, tb, tb_offset, number_of_lines_of_context)\u001B[0m\n\u001B[0;32m   1265\u001B[0m         \u001B[1;32mif\u001B[0m \u001B[0mmode\u001B[0m \u001B[1;32min\u001B[0m \u001B[0mself\u001B[0m\u001B[1;33m.\u001B[0m\u001B[0mverbose_modes\u001B[0m\u001B[1;33m:\u001B[0m\u001B[1;33m\u001B[0m\u001B[1;33m\u001B[0m\u001B[0m\n\u001B[0;32m   1266\u001B[0m             \u001B[1;31m# Verbose modes need a full traceback\u001B[0m\u001B[1;33m\u001B[0m\u001B[1;33m\u001B[0m\u001B[0m\n\u001B[1;32m-> 1267\u001B[1;33m             return VerboseTB.structured_traceback(\n\u001B[0m\u001B[0;32m   1268\u001B[0m                 \u001B[0mself\u001B[0m\u001B[1;33m,\u001B[0m \u001B[0metype\u001B[0m\u001B[1;33m,\u001B[0m \u001B[0mvalue\u001B[0m\u001B[1;33m,\u001B[0m \u001B[0mtb\u001B[0m\u001B[1;33m,\u001B[0m \u001B[0mtb_offset\u001B[0m\u001B[1;33m,\u001B[0m \u001B[0mnumber_of_lines_of_context\u001B[0m\u001B[1;33m\u001B[0m\u001B[1;33m\u001B[0m\u001B[0m\n\u001B[0;32m   1269\u001B[0m             )\n",
      "\u001B[1;32m~\\anaconda3\\lib\\site-packages\\IPython\\core\\ultratb.py\u001B[0m in \u001B[0;36mstructured_traceback\u001B[1;34m(self, etype, evalue, etb, tb_offset, number_of_lines_of_context)\u001B[0m\n\u001B[0;32m   1140\u001B[0m         \u001B[0mchained_exc_ids\u001B[0m \u001B[1;33m=\u001B[0m \u001B[0mset\u001B[0m\u001B[1;33m(\u001B[0m\u001B[1;33m)\u001B[0m\u001B[1;33m\u001B[0m\u001B[1;33m\u001B[0m\u001B[0m\n\u001B[0;32m   1141\u001B[0m         \u001B[1;32mwhile\u001B[0m \u001B[0mevalue\u001B[0m\u001B[1;33m:\u001B[0m\u001B[1;33m\u001B[0m\u001B[1;33m\u001B[0m\u001B[0m\n\u001B[1;32m-> 1142\u001B[1;33m             formatted_exceptions += self.format_exception_as_a_whole(etype, evalue, etb, lines_of_context,\n\u001B[0m\u001B[0;32m   1143\u001B[0m                                                                      chained_exceptions_tb_offset)\n\u001B[0;32m   1144\u001B[0m             \u001B[0mexception\u001B[0m \u001B[1;33m=\u001B[0m \u001B[0mself\u001B[0m\u001B[1;33m.\u001B[0m\u001B[0mget_parts_of_chained_exception\u001B[0m\u001B[1;33m(\u001B[0m\u001B[0mevalue\u001B[0m\u001B[1;33m)\u001B[0m\u001B[1;33m\u001B[0m\u001B[1;33m\u001B[0m\u001B[0m\n",
      "\u001B[1;32m~\\anaconda3\\lib\\site-packages\\IPython\\core\\ultratb.py\u001B[0m in \u001B[0;36mformat_exception_as_a_whole\u001B[1;34m(self, etype, evalue, etb, number_of_lines_of_context, tb_offset)\u001B[0m\n\u001B[0;32m   1080\u001B[0m \u001B[1;33m\u001B[0m\u001B[0m\n\u001B[0;32m   1081\u001B[0m \u001B[1;33m\u001B[0m\u001B[0m\n\u001B[1;32m-> 1082\u001B[1;33m         \u001B[0mlast_unique\u001B[0m\u001B[1;33m,\u001B[0m \u001B[0mrecursion_repeat\u001B[0m \u001B[1;33m=\u001B[0m \u001B[0mfind_recursion\u001B[0m\u001B[1;33m(\u001B[0m\u001B[0morig_etype\u001B[0m\u001B[1;33m,\u001B[0m \u001B[0mevalue\u001B[0m\u001B[1;33m,\u001B[0m \u001B[0mrecords\u001B[0m\u001B[1;33m)\u001B[0m\u001B[1;33m\u001B[0m\u001B[1;33m\u001B[0m\u001B[0m\n\u001B[0m\u001B[0;32m   1083\u001B[0m \u001B[1;33m\u001B[0m\u001B[0m\n\u001B[0;32m   1084\u001B[0m         \u001B[0mframes\u001B[0m \u001B[1;33m=\u001B[0m \u001B[0mself\u001B[0m\u001B[1;33m.\u001B[0m\u001B[0mformat_records\u001B[0m\u001B[1;33m(\u001B[0m\u001B[0mrecords\u001B[0m\u001B[1;33m,\u001B[0m \u001B[0mlast_unique\u001B[0m\u001B[1;33m,\u001B[0m \u001B[0mrecursion_repeat\u001B[0m\u001B[1;33m)\u001B[0m\u001B[1;33m\u001B[0m\u001B[1;33m\u001B[0m\u001B[0m\n",
      "\u001B[1;32m~\\anaconda3\\lib\\site-packages\\IPython\\core\\ultratb.py\u001B[0m in \u001B[0;36mfind_recursion\u001B[1;34m(etype, value, records)\u001B[0m\n\u001B[0;32m    380\u001B[0m     \u001B[1;31m# first frame (from in to out) that looks different.\u001B[0m\u001B[1;33m\u001B[0m\u001B[1;33m\u001B[0m\u001B[0m\n\u001B[0;32m    381\u001B[0m     \u001B[1;32mif\u001B[0m \u001B[1;32mnot\u001B[0m \u001B[0mis_recursion_error\u001B[0m\u001B[1;33m(\u001B[0m\u001B[0metype\u001B[0m\u001B[1;33m,\u001B[0m \u001B[0mvalue\u001B[0m\u001B[1;33m,\u001B[0m \u001B[0mrecords\u001B[0m\u001B[1;33m)\u001B[0m\u001B[1;33m:\u001B[0m\u001B[1;33m\u001B[0m\u001B[1;33m\u001B[0m\u001B[0m\n\u001B[1;32m--> 382\u001B[1;33m         \u001B[1;32mreturn\u001B[0m \u001B[0mlen\u001B[0m\u001B[1;33m(\u001B[0m\u001B[0mrecords\u001B[0m\u001B[1;33m)\u001B[0m\u001B[1;33m,\u001B[0m \u001B[1;36m0\u001B[0m\u001B[1;33m\u001B[0m\u001B[1;33m\u001B[0m\u001B[0m\n\u001B[0m\u001B[0;32m    383\u001B[0m \u001B[1;33m\u001B[0m\u001B[0m\n\u001B[0;32m    384\u001B[0m     \u001B[1;31m# Select filename, lineno, func_name to track frames with\u001B[0m\u001B[1;33m\u001B[0m\u001B[1;33m\u001B[0m\u001B[0m\n",
      "\u001B[1;31mTypeError\u001B[0m: object of type 'NoneType' has no len()"
     ]
    }
   ],
   "source": [
    "# score = []\n",
    "# for i in hidden_states:\n",
    "#     hmm = HMM(train_dataset, validation_dataset,number_of_hidden_states=i)\n",
    "#     prediction = hmm.run()\n",
    "#\n",
    "#     from sklearn.metrics import f1_score\n",
    "#     f1=f1_score(validation_dataset.occupancy, prediction)\n",
    "#     score.append(f1)\n",
    "lstm = LSTM(train_dataset, test_dataset2,epoch=10)\n",
    "prediction = lstm.run()"
   ],
   "metadata": {
    "collapsed": false
   }
  },
  {
   "cell_type": "code",
   "execution_count": 397,
   "outputs": [
    {
     "data": {
      "text/plain": "0.5407501678280924"
     },
     "execution_count": 397,
     "metadata": {},
     "output_type": "execute_result"
    }
   ],
   "source": [
    "f1_score(occupancy_state[:,1], prediction, average='macro')"
   ],
   "metadata": {
    "collapsed": false
   }
  },
  {
   "cell_type": "code",
   "execution_count": 400,
   "outputs": [
    {
     "data": {
      "text/plain": "0.6977502642307112"
     },
     "execution_count": 400,
     "metadata": {},
     "output_type": "execute_result"
    }
   ],
   "source": [
    "accuracy_score(occupancy_state[:,1], prediction)"
   ],
   "metadata": {
    "collapsed": false
   }
  },
  {
   "cell_type": "code",
   "execution_count": 395,
   "outputs": [
    {
     "data": {
      "text/plain": "0.8489525027986566"
     },
     "execution_count": 395,
     "metadata": {},
     "output_type": "execute_result"
    }
   ],
   "source": [
    "recall_score(occupancy_state[:,1], prediction, average='binary')"
   ],
   "metadata": {
    "collapsed": false
   }
  },
  {
   "cell_type": "code",
   "execution_count": 383,
   "outputs": [
    {
     "data": {
      "text/plain": "array([[0., 1.],\n       [0., 1.],\n       [0., 1.],\n       ...,\n       [0., 1.],\n       [0., 1.],\n       [0., 1.]])"
     },
     "execution_count": 383,
     "metadata": {},
     "output_type": "execute_result"
    }
   ],
   "source": [
    "occupancy_state"
   ],
   "metadata": {
    "collapsed": false
   }
  },
  {
   "cell_type": "code",
   "execution_count": 385,
   "outputs": [
    {
     "data": {
      "text/plain": "[<matplotlib.lines.Line2D at 0x1b5a29a3dc0>]"
     },
     "execution_count": 385,
     "metadata": {},
     "output_type": "execute_result"
    },
    {
     "data": {
      "text/plain": "<Figure size 432x288 with 1 Axes>",
      "image/png": "[encoded data removed]"
     },
     "metadata": {
      "needs_background": "light"
     },
     "output_type": "display_data"
    }
   ],
   "source": [
    "plt.plot(occupancy_state[:,1],label = 'ground truth')\n"
   ],
   "metadata": {
    "collapsed": false
   }
  },
  {
   "cell_type": "code",
   "execution_count": 386,
   "outputs": [
    {
     "data": {
      "text/plain": "[<matplotlib.lines.Line2D at 0x1b511a9d310>]"
     },
     "execution_count": 386,
     "metadata": {},
     "output_type": "execute_result"
    },
    {
     "data": {
      "text/plain": "<Figure size 432x288 with 1 Axes>",
      "image/png": "[encoded data removed]"
     },
     "metadata": {
      "needs_background": "light"
     },
     "output_type": "display_data"
    }
   ],
   "source": [
    "plt.plot(prediction,label =\"prediction\")"
   ],
   "metadata": {
    "collapsed": false
   }
  },
  {
   "cell_type": "code",
   "execution_count": 346,
   "outputs": [
    {
     "data": {
      "text/plain": "33690"
     },
     "execution_count": 346,
     "metadata": {},
     "output_type": "execute_result"
    }
   ],
   "source": [
    "len(train_dataset.data)"
   ],
   "metadata": {
    "collapsed": false
   }
  },
  {
   "cell_type": "code",
   "execution_count": 363,
   "outputs": [
    {
     "data": {
      "text/plain": "array([0.01612986, 0.01614317, 0.01609106, ..., 0.01624878, 0.01620916,\n       0.01621163])"
     },
     "execution_count": 363,
     "metadata": {},
     "output_type": "execute_result"
    }
   ],
   "source": [
    "train_dataset.data[:,0]"
   ],
   "metadata": {
    "collapsed": false
   }
  },
  {
   "cell_type": "code",
   "execution_count": 44,
   "outputs": [],
   "source": [
    "data1 = train_dataset.data[:,0]  # 第一个数组\n",
    "data2 = test_dataset2.data[:,0]  # 第二个数组"
   ],
   "metadata": {
    "collapsed": false
   }
  },
  {
   "cell_type": "code",
   "execution_count": 46,
   "outputs": [
    {
     "data": {
      "text/plain": "[<matplotlib.lines.Line2D at 0x1a9b95e32e0>]"
     },
     "execution_count": 46,
     "metadata": {},
     "output_type": "execute_result"
    },
    {
     "data": {
      "text/plain": "<Figure size 432x288 with 1 Axes>",
      "image/png": "[encoded data removed]"
     },
     "metadata": {
      "needs_background": "light"
     },
     "output_type": "display_data"
    }
   ],
   "source": [
    "plt.plot(data1[0:38000])"
   ],
   "metadata": {
    "collapsed": false
   }
  },
  {
   "cell_type": "code",
   "execution_count": 47,
   "outputs": [
    {
     "data": {
      "text/plain": "[<matplotlib.lines.Line2D at 0x1a9b9b2f400>]"
     },
     "execution_count": 47,
     "metadata": {},
     "output_type": "execute_result"
    },
    {
     "data": {
      "text/plain": "<Figure size 432x288 with 1 Axes>",
      "image/png": "[encoded data removed]"
     },
     "metadata": {
      "needs_background": "light"
     },
     "output_type": "display_data"
    }
   ],
   "source": [
    "plt.plot(data2[0:38000])"
   ],
   "metadata": {
    "collapsed": false
   }
  },
  {
   "cell_type": "code",
   "execution_count": 43,
   "outputs": [
    {
     "name": "stdout",
     "output_type": "stream",
     "text": [
      "ERROR! Session/line number was not unique in database. History logging moved to new session 3049\n"
     ]
    },
    {
     "data": {
      "text/plain": "<Figure size 432x288 with 1 Axes>",
      "image/png": "[encoded data removed]"
     },
     "metadata": {
      "needs_background": "light"
     },
     "output_type": "display_data"
    }
   ],
   "source": [
    "import numpy as np\n",
    "import matplotlib.pyplot as plt\n",
    "\n",
    "# 假设这是你的数据\n",
    "data1 = train_dataset.data[:,0]  # 第一个数组\n",
    "data2 = test_dataset2.data[:,0]  # 第二个数组\n",
    "\n",
    "# 绘制直方图\n",
    "plt.hist(data1, bins=1000, alpha=0.5, label='Data 1')\n",
    "plt.hist(data2, bins=1000, alpha=0.5, label='Data 2')\n",
    "\n",
    "# 添加图例\n",
    "plt.legend(loc='upper right')\n",
    "\n",
    "# 显示图表\n",
    "plt.show()"
   ],
   "metadata": {
    "collapsed": false
   }
  },
  {
   "cell_type": "code",
   "execution_count": 13,
   "outputs": [
    {
     "ename": "NameError",
     "evalue": "name 'prediction' is not defined",
     "output_type": "error",
     "traceback": [
      "\u001B[1;31m---------------------------------------------------------------------------\u001B[0m",
      "\u001B[1;31mNameError\u001B[0m                                 Traceback (most recent call last)",
      "\u001B[1;32m~\\AppData\\Local\\Temp/ipykernel_43840/1952787973.py\u001B[0m in \u001B[0;36m<module>\u001B[1;34m\u001B[0m\n\u001B[1;32m----> 1\u001B[1;33m \u001B[0mprediction\u001B[0m\u001B[1;33m\u001B[0m\u001B[1;33m\u001B[0m\u001B[0m\n\u001B[0m",
      "\u001B[1;31mNameError\u001B[0m: name 'prediction' is not defined"
     ]
    }
   ],
   "source": [
    "prediction"
   ],
   "metadata": {
    "collapsed": false
   }
  },
  {
   "cell_type": "code",
   "execution_count": 70,
   "outputs": [
    {
     "name": "stdout",
     "output_type": "stream",
     "text": [
      "F1 score: 0.8571428571428571\n",
      "precision: 1.0\n",
      "recall: 0.75\n"
     ]
    }
   ],
   "source": [
    "import numpy as np\n",
    "\n",
    "def find_transition_points(y):\n",
    "    \"\"\"\n",
    "    Find transition points in the y array.\n",
    "    \"\"\"\n",
    "    diff = np.diff(y)\n",
    "    pos_transitions = np.where(diff > 0)[0] + 1  # From 0 to 1\n",
    "    neg_transitions = np.where(diff < 0)[0] + 1  # From 1 to 0\n",
    "    return pos_transitions, neg_transitions\n",
    "\n",
    "def calculate_f1(prediction, y_test, tolerance):\n",
    "    # Find transition points in y_test\n",
    "    pos_transitions_y_test, neg_transitions_y_test = find_transition_points(y_test)\n",
    "\n",
    "    # Find transition points in prediction\n",
    "    pos_transitions_prediction, neg_transitions_prediction = find_transition_points(prediction)\n",
    "\n",
    "    # Initialize counters\n",
    "    true_positives = 0\n",
    "    false_positives = 0\n",
    "    false_negatives = 0\n",
    "    true_negatives = 0\n",
    "\n",
    "    # Calculate TP, FP, TN, FN\n",
    "    for i in range(len(pos_transitions_y_test)):\n",
    "        closest_index = np.argmin(np.abs(pos_transitions_prediction - pos_transitions_y_test[i]))\n",
    "        if np.abs(pos_transitions_prediction[closest_index] - pos_transitions_y_test[i]) <= tolerance:\n",
    "            true_positives += 1\n",
    "            pos_transitions_prediction = np.delete(pos_transitions_prediction, closest_index)\n",
    "    false_positives += len(pos_transitions_prediction)\n",
    "\n",
    "    for i in range(len(neg_transitions_y_test)):\n",
    "        closest_index = np.argmin(np.abs(neg_transitions_prediction - neg_transitions_y_test[i]))\n",
    "        if np.abs(neg_transitions_prediction[closest_index] - neg_transitions_y_test[i]) <= tolerance:\n",
    "            true_negatives += 1\n",
    "            neg_transitions_prediction = np.delete(neg_transitions_prediction, closest_index)\n",
    "    false_negatives += len(neg_transitions_prediction)\n",
    "\n",
    "    # Calculate F1 score\n",
    "    if true_positives + false_positives == 0:\n",
    "        precision = 0\n",
    "    else:\n",
    "        precision = true_positives / (true_positives + false_positives)\n",
    "\n",
    "    if true_positives + false_negatives == 0:\n",
    "        recall = 0\n",
    "    else:\n",
    "        recall = true_positives / (true_positives + false_negatives)\n",
    "\n",
    "    if precision + recall == 0:\n",
    "        f1 = 0\n",
    "    else:\n",
    "        f1 = 2 * (precision * recall) / (precision + recall)\n",
    "\n",
    "    # Calculate average fragment length for FP and FN\n",
    "    # FP waste\n",
    "    # if false_positives == 0:\n",
    "    #     average_fragment_length_fp = 0\n",
    "    # else:\n",
    "    #     total_length_fp = 0\n",
    "    #     for transition in pos_transitions_prediction:\n",
    "    #         length = 1\n",
    "    #         while transition + length-1>len(y_test)-1 and prediction[transition + length-1] == 1:\n",
    "    #             length += 1\n",
    "    #         total_length_fp += length\n",
    "    #     average_fragment_length_fp = total_length_fp / false_positives\n",
    "    #\n",
    "    # if false_negatives == 0:\n",
    "    #     average_fragment_length_fn = 0\n",
    "    # else:\n",
    "    #     total_length_fn = 0\n",
    "    #     for transition in neg_transitions_prediction:\n",
    "    #         length = 1\n",
    "    #         while transition + length-1>len(y_test)-1 and y_test[transition + length-1] == 1:\n",
    "    #             length += 1\n",
    "    #\n",
    "    #         total_length_fn += length\n",
    "    #     average_fragment_length_fn = total_length_fn / false_negatives\n",
    "\n",
    "    # return f1, precision, recall, average_fragment_length_fp, average_fragment_length_fn\n",
    "    return f1, precision, recall\n",
    "# Example usage\n",
    "prediction = np.array([0, 1, 1, 0, 0, 1, 1, 0, 1, 0])\n",
    "y_test = np.array([0, 1, 1, 0, 1, 1, 1, 0, 0, 1])\n",
    "tolerance = 5\n",
    "\n",
    "# f1_score, precision, recall, fp_length, fn_length = calculate_f1(prediction, y_test, tolerance)\n",
    "f1_score, precision, recall = calculate_f1(prediction, y_test, tolerance)\n",
    "\n",
    "print(f\"F1 score: {f1_score}\")\n",
    "print(f\"precision: {precision}\")\n",
    "print(f\"recall: {recall}\")\n",
    "# print(f\"fp_length: {fp_length}\")\n",
    "# print(f\"fn_length: {fn_length}\")"
   ],
   "metadata": {
    "collapsed": false
   }
  },
  {
   "cell_type": "code",
   "execution_count": null,
   "outputs": [],
   "source": [
    "# Example usage\n",
    "prediction = np.array([0, 1, 1, 0, 0, 1, 1, 0, 1, 0])\n",
    "y_test = np.array([0, 1, 1, 0, 1, 1, 1, 0, 0, 1])\n"
   ],
   "metadata": {
    "collapsed": false
   }
  },
  {
   "cell_type": "code",
   "execution_count": 1,
   "outputs": [
    {
     "name": "stdout",
     "output_type": "stream",
     "text": [
      "F1 score: 0.3333333333333333\n"
     ]
    }
   ],
   "source": [
    "import numpy as np\n",
    "\n",
    "def find_transition_points(y):\n",
    "    \"\"\"\n",
    "    Find transition points in the y array.\n",
    "    \"\"\"\n",
    "    diff = np.diff(y)\n",
    "    pos_transitions = np.where(diff > 0)[0] + 1  # From 0 to 1\n",
    "    neg_transitions = np.where(diff < 0)[0] + 1  # From 1 to 0\n",
    "    return pos_transitions, neg_transitions\n",
    "\n",
    "def calculate_f1(prediction, y_test, tolerance):\n",
    "    # Find transition points in y_test\n",
    "    pos_transitions_y_test, neg_transitions_y_test = find_transition_points(y_test)\n",
    "\n",
    "    # Find transition points in prediction\n",
    "    pos_transitions_prediction, neg_transitions_prediction = find_transition_points(prediction)\n",
    "\n",
    "    # Initialize counters\n",
    "    true_positives = 0\n",
    "    false_positives = 0\n",
    "    false_negatives = 0\n",
    "    true_negatives = 0\n",
    "\n",
    "    # Calculate TP, FP, TN, FN\n",
    "    for i in range(len(pos_transitions_y_test)):\n",
    "        closest_index = np.argmin(np.abs(pos_transitions_prediction - pos_transitions_y_test[i]))\n",
    "        if np.abs(pos_transitions_prediction[closest_index] - pos_transitions_y_test[i]) <= tolerance:\n",
    "            true_positives += 1\n",
    "        else:\n",
    "            false_negatives += 1\n",
    "\n",
    "    for i in range(len(neg_transitions_y_test)):\n",
    "        closest_index = np.argmin(np.abs(neg_transitions_prediction - neg_transitions_y_test[i]))\n",
    "        if np.abs(neg_transitions_prediction[closest_index] - neg_transitions_y_test[i]) <= tolerance:\n",
    "            true_negatives += 1\n",
    "        else:\n",
    "            false_positives += 1\n",
    "\n",
    "    # Calculate F1 score\n",
    "    if true_positives + false_positives == 0:\n",
    "        precision = 0\n",
    "    else:\n",
    "        precision = true_positives / (true_positives + false_positives)\n",
    "\n",
    "    if true_positives + false_negatives == 0:\n",
    "        recall = 0\n",
    "    else:\n",
    "        recall = true_positives / (true_positives + false_negatives)\n",
    "\n",
    "    if precision + recall == 0:\n",
    "        f1 = 0\n",
    "    else:\n",
    "        f1 = 2 * (precision * recall) / (precision + recall)\n",
    "\n",
    "    return f1, precision, recall\n",
    "\n",
    "# Example usage\n",
    "prediction = np.array([0, 1, 1, 0, 0, 1, 1, 0, 1, 0])\n",
    "y_test = np.array([0, 1, 1, 0, 1, 1, 1, 0, 0, 1])\n",
    "tolerance = 2\n",
    "\n",
    "f1_score = calculate_f1(prediction, y_test, tolerance)\n",
    "print(f\"F1 score: {f1_score}\")\n"
   ],
   "metadata": {
    "collapsed": false
   }
  },
  {
   "cell_type": "code",
   "execution_count": null,
   "outputs": [],
   "source": [],
   "metadata": {
    "collapsed": false
   }
  }
 ],
 "metadata": {
  "kernelspec": {
   "display_name": "Python 3",
   "language": "python",
   "name": "python3"
  },
  "language_info": {
   "codemirror_mode": {
    "name": "ipython",
    "version": 2
   },
   "file_extension": ".py",
   "mimetype": "text/x-python",
   "name": "python",
   "nbconvert_exporter": "python",
   "pygments_lexer": "ipython2",
   "version": "2.7.6"
  }
 },
 "nbformat": 4,
 "nbformat_minor": 0
}
