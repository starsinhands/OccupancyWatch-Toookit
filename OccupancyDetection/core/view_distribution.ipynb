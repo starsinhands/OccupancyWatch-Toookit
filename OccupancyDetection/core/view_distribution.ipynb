{
 "cells": [
  {
   "cell_type": "code",
   "execution_count": 1,
   "metadata": {
    "collapsed": true
   },
   "outputs": [
    {
     "name": "stderr",
     "output_type": "stream",
     "text": [
      "<frozen importlib._bootstrap>:228: RuntimeWarning: scipy._lib.messagestream.MessageStream size changed, may indicate binary incompatibility. Expected 56 from C header, got 64 from PyObject\n"
     ]
    }
   ],
   "source": [
    "import numpy as np\n",
    "import pandas as pd\n",
    "from sklearn.metrics import f1_score, accuracy_score\n",
    "from utility import calculate_f1, majority_vote_filter\n",
    "from matplotlib import pyplot as plt\n",
    "import pandas as pd\n",
    "path = r\"C:\\Users\\ASUS\\Desktop\\OccupancyWatch\\result\\ECO\\b1\"\n",
    "summer_occupancy = pd.read_csv(r'C:\\Users\\ASUS\\Desktop\\activity inference\\data\\eco\\home1\\01_occupancy_csv\\01_summer.csv',index_col=0)\n",
    "# timestamps = pd.date_range(start=occupancy.index[0], end=pd.to_datetime(occupancy.index[-1])+pd.Timedelta(days=1), freq='S')\n",
    "winter_occupancy = pd.read_csv(r'C:\\Users\\ASUS\\Desktop\\activity inference\\data\\eco\\home1\\01_occupancy_csv\\01_winter.csv',index_col=0)"
   ]
  },
  {
   "cell_type": "code",
   "execution_count": 2,
   "outputs": [
    {
     "data": {
      "text/plain": "Index(['15-Jul-2012', '16-Jul-2012', '17-Jul-2012', '18-Jul-2012',\n       '20-Jul-2012', '21-Jul-2012', '22-Jul-2012', '23-Jul-2012',\n       '24-Jul-2012', '25-Jul-2012', '26-Jul-2012', '27-Jul-2012',\n       '28-Jul-2012', '29-Jul-2012', '30-Jul-2012', '31-Jul-2012',\n       '01-Aug-2012', '02-Aug-2012', '03-Aug-2012', '04-Aug-2012',\n       '05-Aug-2012', '06-Aug-2012', '07-Aug-2012', '08-Aug-2012',\n       '09-Aug-2012', '10-Aug-2012', '12-Aug-2012', '13-Aug-2012',\n       '14-Aug-2012', '15-Aug-2012', '16-Aug-2012', '17-Aug-2012',\n       '18-Aug-2012', '19-Aug-2012', '20-Aug-2012', '21-Aug-2012',\n       '23-Aug-2012', '24-Aug-2012', '25-Aug-2012'],\n      dtype='object')"
     },
     "execution_count": 2,
     "metadata": {},
     "output_type": "execute_result"
    }
   ],
   "source": [
    "summer_occupancy.index"
   ],
   "metadata": {
    "collapsed": false
   }
  },
  {
   "cell_type": "code",
   "execution_count": 3,
   "outputs": [
    {
     "data": {
      "text/plain": "Index(['24-Nov-2012', '25-Nov-2012', '26-Nov-2012', '27-Nov-2012',\n       '28-Nov-2012', '29-Nov-2012', '30-Nov-2012', '01-Dec-2012',\n       '03-Dec-2012', '04-Dec-2012', '05-Dec-2012', '06-Dec-2012',\n       '07-Dec-2012', '08-Dec-2012', '09-Dec-2012', '10-Dec-2012',\n       '11-Dec-2012', '12-Dec-2012', '13-Dec-2012', '14-Dec-2012',\n       '15-Dec-2012', '16-Dec-2012', '17-Dec-2012', '18-Dec-2012',\n       '19-Dec-2012', '20-Dec-2012', '21-Dec-2012', '22-Dec-2012',\n       '23-Dec-2012', '24-Dec-2012', '25-Dec-2012', '26-Dec-2012',\n       '27-Dec-2012', '28-Dec-2012', '29-Dec-2012', '30-Dec-2012',\n       '31-Dec-2012', '01-Jan-2013', '02-Jan-2013', '03-Jan-2013',\n       '04-Jan-2013', '05-Jan-2013', '06-Jan-2013', '07-Jan-2013',\n       '08-Jan-2013', '09-Jan-2013'],\n      dtype='object')"
     },
     "execution_count": 3,
     "metadata": {},
     "output_type": "execute_result"
    }
   ],
   "source": [
    "winter_occupancy.index"
   ],
   "metadata": {
    "collapsed": false
   }
  },
  {
   "cell_type": "code",
   "execution_count": 6,
   "outputs": [],
   "source": [
    "# prepare electricity\n",
    "hdf = pd.HDFStore(r'C:\\Users\\ASUS\\Desktop\\activity inference\\data\\eco\\eco.h5')\n",
    "power_info = hdf.get('/building1/elec/meter1')\n",
    "power_info.index.name = 'Date'\n",
    "power_info.reset_index(inplace=True)\n",
    "power_info['Date'] = pd.to_datetime(power_info['Date']).dt.tz_localize(None)\n",
    "#转化时间戳\n",
    "power_info.set_index('Date', drop=True, inplace=True)\n",
    "power_info=power_info.fillna(0)\n",
    "power_info = power_info[\"power\"][\"active\"].to_frame()\n",
    "power_info=power_info.resample(\"1min\").mean()\n",
    "power_info=power_info.fillna(0)"
   ],
   "metadata": {
    "collapsed": false
   }
  },
  {
   "cell_type": "code",
   "execution_count": 7,
   "outputs": [
    {
     "data": {
      "text/plain": "                         active\nDate                           \n2012-06-01 02:00:00  100.000000\n2012-06-01 02:01:00  100.833336\n2012-06-01 02:02:00  120.000000\n2012-06-01 02:03:00  120.000000\n2012-06-01 02:04:00  120.000000\n...                         ...\n2013-02-01 00:55:00   69.062149\n2013-02-01 00:56:00   69.028496\n2013-02-01 00:57:00   68.948517\n2013-02-01 00:58:00   68.835655\n2013-02-01 00:59:00   68.774139\n\n[352740 rows x 1 columns]",
      "text/html": "<div>\n<style scoped>\n    .dataframe tbody tr th:only-of-type {\n        vertical-align: middle;\n    }\n\n    .dataframe tbody tr th {\n        vertical-align: top;\n    }\n\n    .dataframe thead th {\n        text-align: right;\n    }\n</style>\n<table border=\"1\" class=\"dataframe\">\n  <thead>\n    <tr style=\"text-align: right;\">\n      <th></th>\n      <th>active</th>\n    </tr>\n    <tr>\n      <th>Date</th>\n      <th></th>\n    </tr>\n  </thead>\n  <tbody>\n    <tr>\n      <th>2012-06-01 02:00:00</th>\n      <td>100.000000</td>\n    </tr>\n    <tr>\n      <th>2012-06-01 02:01:00</th>\n      <td>100.833336</td>\n    </tr>\n    <tr>\n      <th>2012-06-01 02:02:00</th>\n      <td>120.000000</td>\n    </tr>\n    <tr>\n      <th>2012-06-01 02:03:00</th>\n      <td>120.000000</td>\n    </tr>\n    <tr>\n      <th>2012-06-01 02:04:00</th>\n      <td>120.000000</td>\n    </tr>\n    <tr>\n      <th>...</th>\n      <td>...</td>\n    </tr>\n    <tr>\n      <th>2013-02-01 00:55:00</th>\n      <td>69.062149</td>\n    </tr>\n    <tr>\n      <th>2013-02-01 00:56:00</th>\n      <td>69.028496</td>\n    </tr>\n    <tr>\n      <th>2013-02-01 00:57:00</th>\n      <td>68.948517</td>\n    </tr>\n    <tr>\n      <th>2013-02-01 00:58:00</th>\n      <td>68.835655</td>\n    </tr>\n    <tr>\n      <th>2013-02-01 00:59:00</th>\n      <td>68.774139</td>\n    </tr>\n  </tbody>\n</table>\n<p>352740 rows × 1 columns</p>\n</div>"
     },
     "execution_count": 7,
     "metadata": {},
     "output_type": "execute_result"
    }
   ],
   "source": [
    "power_info"
   ],
   "metadata": {
    "collapsed": false
   }
  },
  {
   "cell_type": "code",
   "execution_count": 11,
   "outputs": [],
   "source": [
    "summer = power_info[\"2012-06-01 02:00:00\":\"2012-08-05 00:00:00\"]\n",
    "winter = power_info[\"2012-12-24 02:00:00\":]"
   ],
   "metadata": {
    "collapsed": false
   }
  },
  {
   "cell_type": "code",
   "execution_count": 12,
   "outputs": [],
   "source": [
    "from sklearn.preprocessing import MinMaxScaler"
   ],
   "metadata": {
    "collapsed": false
   }
  },
  {
   "cell_type": "code",
   "execution_count": 13,
   "outputs": [],
   "source": [
    "scaler = MinMaxScaler()\n",
    "summer = scaler.fit_transform(summer)\n",
    "winter = scaler.transform(winter)"
   ],
   "metadata": {
    "collapsed": false
   }
  },
  {
   "cell_type": "code",
   "execution_count": 14,
   "outputs": [
    {
     "data": {
      "text/plain": "<Figure size 432x288 with 1 Axes>",
      "image/png": "[encoded data removed]"
     },
     "metadata": {
      "needs_background": "light"
     },
     "output_type": "display_data"
    }
   ],
   "source": [
    "import numpy as np\n",
    "import matplotlib.pyplot as plt\n",
    "\n",
    "# 假设这是你的数据\n",
    "data1 = summer  # 第一个数组\n",
    "data2 = winter  # 第二个数组\n",
    "\n",
    "# 绘制直方图\n",
    "plt.hist(data1, bins=1000, alpha=0.5, label='Data 1')\n",
    "plt.hist(data2, bins=1000, alpha=0.5, label='Data 2')\n",
    "\n",
    "# 添加图例\n",
    "plt.legend(loc='upper right')\n",
    "\n",
    "# 显示图表\n",
    "plt.show()"
   ],
   "metadata": {
    "collapsed": false
   }
  },
  {
   "cell_type": "code",
   "execution_count": null,
   "outputs": [],
   "source": [],
   "metadata": {
    "collapsed": false
   }
  }
 ],
 "metadata": {
  "kernelspec": {
   "display_name": "Python 3",
   "language": "python",
   "name": "python3"
  },
  "language_info": {
   "codemirror_mode": {
    "name": "ipython",
    "version": 2
   },
   "file_extension": ".py",
   "mimetype": "text/x-python",
   "name": "python",
   "nbconvert_exporter": "python",
   "pygments_lexer": "ipython2",
   "version": "2.7.6"
  }
 },
 "nbformat": 4,
 "nbformat_minor": 0
}
